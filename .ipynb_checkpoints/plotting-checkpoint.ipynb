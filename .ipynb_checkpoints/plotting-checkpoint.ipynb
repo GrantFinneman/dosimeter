{
 "cells": [
  {
   "cell_type": "markdown",
   "metadata": {},
   "source": [
    "# Plotting the Energy Deposited in the Detector"
   ]
  },
  {
   "cell_type": "markdown",
   "metadata": {},
   "source": [
    "The detector is an 8x8 grid of channels with channel 1 in the top left corner and channel 8 in the top right corner"
   ]
  },
  {
   "cell_type": "code",
   "execution_count": 1,
   "metadata": {},
   "outputs": [],
   "source": [
    "import matplotlib.pyplot as plt\n",
    "import numpy as np\n",
    "import os\n",
    "import pandas as pd\n",
    "from my_classes import *\n",
    "%matplotlib widget"
   ]
  },
  {
   "cell_type": "code",
   "execution_count": 2,
   "metadata": {},
   "outputs": [],
   "source": [
    "extracted_dir = 'ohio_data/extracted_data/'\n",
    "files = [os.path.join(extracted_dir, file) for file in os.listdir(extracted_dir) if file.endswith('txt')]\n",
    "\n",
    "energy_dict = {}\n",
    "for file in sorted(files):\n",
    "    df = pd.read_csv(file, delim_whitespace=True)\n",
    "    file_name = os.path.basename(file)\n",
    "    energy_dict[file_name] = np.array(df['edep'])"
   ]
  },
  {
   "cell_type": "markdown",
   "metadata": {},
   "source": [
    "## Note\n",
    "\n",
    "- It should be noted the data from rotated files Eg *_r.txt, after the data is extended into 3 dimensions the 'cube' of numbers have to be rotated 90 degrees. This is because normally the detector is represented by the xy plane with the bars extending up into the z-axis, when it is rotated, the detector is on the yz plane with bars extending in the y direction"
   ]
  },
  {
   "cell_type": "code",
   "execution_count": 4,
   "metadata": {},
   "outputs": [
    {
     "data": {
      "application/vnd.jupyter.widget-view+json": {
       "model_id": "60796923861d464ba3749c21c12899e9",
       "version_major": 2,
       "version_minor": 0
      },
      "text/plain": [
       "Canvas(toolbar=Toolbar(toolitems=[('Home', 'Reset original view', 'home', 'home'), ('Back', 'Back to previous …"
      ]
     },
     "metadata": {},
     "output_type": "display_data"
    },
    {
     "name": "stderr",
     "output_type": "stream",
     "text": [
      "/home/gmf/.anaconda3/envs/dosimeter/lib/python3.8/site-packages/matplotlib/collections.py:922: RuntimeWarning: invalid value encountered in sqrt\n",
      "  scale = np.sqrt(self._sizes) * dpi / 72.0 * self._factor\n"
     ]
    }
   ],
   "source": [
    "x, y, z = create_3d_cords()\n",
    "\n",
    "fig = plt.figure()\n",
    "ax = plt.subplot(111, projection='3d')\n",
    "ax.scatter(x, y, z, c=reshape_extend(energy_dict['R03.txt']), s=calculate_sizes(reshape_extend(energy_dict['R03.txt'])))#, linewidth=reshape_extend(energy_dict['R03.txt']))\n",
    "ax.set_xlabel('x axis')\n",
    "ax.set_ylabel('Beam Enters from this side')\n",
    "plt.show()"
   ]
  },
  {
   "cell_type": "code",
   "execution_count": 5,
   "metadata": {},
   "outputs": [
    {
     "data": {
      "application/vnd.jupyter.widget-view+json": {
       "model_id": "2bfde393d78b4f9d814b0d1371c833de",
       "version_major": 2,
       "version_minor": 0
      },
      "text/plain": [
       "Canvas(toolbar=Toolbar(toolitems=[('Home', 'Reset original view', 'home', 'home'), ('Back', 'Back to previous …"
      ]
     },
     "metadata": {},
     "output_type": "display_data"
    }
   ],
   "source": [
    "x, y, z = create_3d_cords()\n",
    "data = np.rot90(reshape_extend(energy_dict['R03.txt']), axes=(0, 2))\n",
    "\n",
    "fig = plt.figure()\n",
    "ax = plt.subplot(111, projection='3d')\n",
    "ax.scatter(x, y, z, c=data)\n",
    "ax.set_xlabel('x axis')\n",
    "ax.set_ylabel('Beam Enters from this side')\n",
    "ax.set_zlabel('Detector then gets\\n put on this wall')\n",
    "plt.show()"
   ]
  },
  {
   "cell_type": "code",
   "execution_count": 6,
   "metadata": {},
   "outputs": [
    {
     "data": {
      "application/vnd.jupyter.widget-view+json": {
       "model_id": "5b119a23b88f4872b46b6c1de1de0e8b",
       "version_major": 2,
       "version_minor": 0
      },
      "text/plain": [
       "Canvas(toolbar=Toolbar(toolitems=[('Home', 'Reset original view', 'home', 'home'), ('Back', 'Back to previous …"
      ]
     },
     "metadata": {},
     "output_type": "display_data"
    },
    {
     "data": {
      "text/plain": [
       "<matplotlib.image.AxesImage at 0x7f7a0984f130>"
      ]
     },
     "execution_count": 6,
     "metadata": {},
     "output_type": "execute_result"
    }
   ],
   "source": [
    "plt.figure()\n",
    "plt.imshow(energy_dict['R03_r.txt'].reshape((8,8)))"
   ]
  },
  {
   "cell_type": "code",
   "execution_count": 7,
   "metadata": {},
   "outputs": [
    {
     "data": {
      "application/vnd.jupyter.widget-view+json": {
       "model_id": "e7144984c5134f9c93c51b7b575b0e60",
       "version_major": 2,
       "version_minor": 0
      },
      "text/plain": [
       "Canvas(toolbar=Toolbar(toolitems=[('Home', 'Reset original view', 'home', 'home'), ('Back', 'Back to previous …"
      ]
     },
     "metadata": {},
     "output_type": "display_data"
    },
    {
     "data": {
      "text/plain": [
       "(array([31.,  5.,  8.,  3.,  1.,  1.,  0.,  0.,  0.,  2.,  2.,  0.,  0.,\n",
       "         0.,  1.,  1.,  1.,  1.,  0.,  1.,  0.,  0.,  0.,  1.,  0.,  0.,\n",
       "         0.,  1.,  1.,  0.,  0.,  0.,  0.,  0.,  1.,  0.,  1.,  0.,  0.,\n",
       "         0.,  0.,  0.,  0.,  0.,  0.,  0.,  0.,  0.,  0.,  1.]),\n",
       " array([-16230.281342  ,  -7262.48852896,   1705.30428408,  10673.09709712,\n",
       "         19640.88991016,  28608.6827232 ,  37576.47553624,  46544.26834928,\n",
       "         55512.06116232,  64479.85397536,  73447.6467884 ,  82415.43960144,\n",
       "         91383.23241448, 100351.02522752, 109318.81804056, 118286.6108536 ,\n",
       "        127254.40366664, 136222.19647968, 145189.98929272, 154157.78210576,\n",
       "        163125.5749188 , 172093.36773184, 181061.16054488, 190028.95335792,\n",
       "        198996.74617096, 207964.538984  , 216932.33179704, 225900.12461008,\n",
       "        234867.91742312, 243835.71023616, 252803.5030492 , 261771.29586224,\n",
       "        270739.08867528, 279706.88148832, 288674.67430136, 297642.4671144 ,\n",
       "        306610.25992744, 315578.05274048, 324545.84555352, 333513.63836656,\n",
       "        342481.4311796 , 351449.22399264, 360417.01680568, 369384.80961872,\n",
       "        378352.60243176, 387320.3952448 , 396288.18805784, 405255.98087088,\n",
       "        414223.77368392, 423191.56649696, 432159.35931   ]),\n",
       " <BarContainer object of 50 artists>)"
      ]
     },
     "execution_count": 7,
     "metadata": {},
     "output_type": "execute_result"
    }
   ],
   "source": [
    "plt.figure()\n",
    "plt.hist(energy_dict['R01.txt'], bins=50)"
   ]
  },
  {
   "cell_type": "code",
   "execution_count": null,
   "metadata": {},
   "outputs": [],
   "source": []
  }
 ],
 "metadata": {
  "kernelspec": {
   "display_name": "Python [conda env:dosimeter]",
   "language": "python",
   "name": "conda-env-dosimeter-py"
  },
  "language_info": {
   "codemirror_mode": {
    "name": "ipython",
    "version": 3
   },
   "file_extension": ".py",
   "mimetype": "text/x-python",
   "name": "python",
   "nbconvert_exporter": "python",
   "pygments_lexer": "ipython3",
   "version": "3.8.5"
  }
 },
 "nbformat": 4,
 "nbformat_minor": 4
}
