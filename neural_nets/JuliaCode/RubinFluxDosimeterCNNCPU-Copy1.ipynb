{
 "cells": [
  {
   "cell_type": "code",
   "execution_count": 1,
   "id": "44434fd5-0e36-419a-9221-f8a9a9a9ddf9",
   "metadata": {},
   "outputs": [
    {
     "name": "stderr",
     "output_type": "stream",
     "text": [
      "┌ Warning: The NVIDIA driver on this system only supports up to CUDA 11.0.0.\n",
      "│ For performance reasons, it is recommended to upgrade to a driver that supports CUDA 11.2 or higher.\n",
      "└ @ CUDA /home/jupyter-rubin/.julia/packages/CUDA/mVgLI/src/initialization.jl:42\n"
     ]
    }
   ],
   "source": [
    "using Flux, Statistics\n",
    "using Flux: crossentropy, throttle, logitcrossentropy\n",
    "using Base.Iterators: repeated, partition, flatten\n",
    "using DelimitedFiles\n",
    "using LinearAlgebra\n",
    "using RDatasets\n",
    "using GLM\n",
    "using BSON: @save, @load\n",
    "using Random\n",
    "using Base.Threads \n",
    "using Plots"
   ]
  },
  {
   "cell_type": "code",
   "execution_count": null,
   "id": "9e62ab25-7554-45fa-ae68-75596754bfce",
   "metadata": {},
   "outputs": [],
   "source": []
  },
  {
   "cell_type": "code",
   "execution_count": 2,
   "id": "62fb337f-6d3b-49fa-8f0e-ced4aaffcccf",
   "metadata": {},
   "outputs": [
    {
     "data": {
      "text/plain": [
       "getEdepGateBarA0 (generic function with 1 method)"
      ]
     },
     "execution_count": 2,
     "metadata": {},
     "output_type": "execute_result"
    }
   ],
   "source": [
    "function getEdepGateBarA0(number, angle)\n",
    "    folder = \"/home/jupyter-rubin/dosimeter/gate_data/bars/\"\n",
    "    angle = lpad(angle,3,\"0\")\n",
    "    fileName = filter(x->occursin(string(\"A\", angle), x), readdir(folder))[number]\n",
    "    filePath = string(folder, fileName)\n",
    "    return Int.(round.(reshape(readdlm(filePath)[4:67,2], (8,8))))\n",
    "end"
   ]
  },
  {
   "cell_type": "code",
   "execution_count": 3,
   "id": "9927597d-5e34-41fc-a699-7ea21b0d0556",
   "metadata": {
    "tags": []
   },
   "outputs": [
    {
     "data": {
      "text/plain": [
       "8×8 Matrix{Int64}:\n",
       " 2  3   2  379  382   3  0  0\n",
       " 0  2   2  304  404   2  2  0\n",
       " 2  2   5  320  341   2  0  0\n",
       " 2  1  23  399  375   3  4  0\n",
       " 1  3   6  369  484   7  1  0\n",
       " 0  2   2  374  469   4  1  2\n",
       " 1  1   3  253  421   4  1  2\n",
       " 1  0  29  156  193  20  3  1"
      ]
     },
     "execution_count": 3,
     "metadata": {},
     "output_type": "execute_result"
    }
   ],
   "source": [
    "getEdepGateBarA0(1, 0)"
   ]
  },
  {
   "cell_type": "code",
   "execution_count": 4,
   "id": "b2158079-821e-4901-9256-9dd1faf71c20",
   "metadata": {},
   "outputs": [
    {
     "data": {
      "text/plain": [
       "getEdepGateBarA90 (generic function with 1 method)"
      ]
     },
     "execution_count": 4,
     "metadata": {},
     "output_type": "execute_result"
    }
   ],
   "source": [
    "function getEdepGateBarA90(number, angle)\n",
    "    folder = \"/home/jupyter-rubin/dosimeter/gate_data/bars/\"\n",
    "    angle90 = lpad(angle+90, 3, \"0\")\n",
    "    fileName90 = filter(x->occursin(string(\"A\", angle90), x), readdir(folder))[number]\n",
    "    filePath90 = string(folder, fileName90)\n",
    "    return return Int.(round.(reshape(readdlm(filePath90)[4:67,2], (8,8))))\n",
    "end"
   ]
  },
  {
   "cell_type": "code",
   "execution_count": null,
   "id": "190d51bc-4968-4834-be50-616c55bf0cc1",
   "metadata": {},
   "outputs": [],
   "source": []
  },
  {
   "cell_type": "code",
   "execution_count": 5,
   "id": "c858808b-22dc-4e52-940c-9b63cc80d57d",
   "metadata": {},
   "outputs": [
    {
     "data": {
      "text/plain": [
       "getEdepGateGrid (generic function with 1 method)"
      ]
     },
     "execution_count": 5,
     "metadata": {},
     "output_type": "execute_result"
    }
   ],
   "source": [
    "function getEdepGateGrid(number, angle)\n",
    "    folder = \"/home/jupyter-rubin/dosimeter/gate_data/cubes/\"\n",
    "    angle = lpad(angle, 3, \"0\")\n",
    "    fileName = filter(x->occursin(string(\"A\", angle), x), readdir(folder))[number]\n",
    "    filePath = string(folder, fileName)\n",
    "    return Int.(round.(readdlm(filePath)[4:515,2]))\n",
    "end"
   ]
  },
  {
   "cell_type": "code",
   "execution_count": 6,
   "id": "65d81944-c591-45e4-af95-0c95d2aaaa7d",
   "metadata": {},
   "outputs": [
    {
     "data": {
      "text/plain": [
       "512-element Vector{Int64}:\n",
       " 1\n",
       " 0\n",
       " 0\n",
       " 0\n",
       " 0\n",
       " 0\n",
       " 1\n",
       " 0\n",
       " 0\n",
       " 0\n",
       " 0\n",
       " 0\n",
       " 0\n",
       " ⋮\n",
       " 0\n",
       " 0\n",
       " 0\n",
       " 0\n",
       " 0\n",
       " 0\n",
       " 0\n",
       " 0\n",
       " 0\n",
       " 0\n",
       " 0\n",
       " 0"
      ]
     },
     "execution_count": 6,
     "metadata": {},
     "output_type": "execute_result"
    }
   ],
   "source": [
    "getEdepGateGrid(1, 45)"
   ]
  },
  {
   "cell_type": "markdown",
   "id": "81db328b-92c4-4d10-b90f-b49036b5ff83",
   "metadata": {},
   "source": [
    "dosimeter/gate_data/bars/W05__H05__A000_bars_extracted.txt"
   ]
  },
  {
   "cell_type": "code",
   "execution_count": 7,
   "id": "97502259-4ef1-49ad-96df-ade611279d66",
   "metadata": {},
   "outputs": [
    {
     "data": {
      "text/plain": [
       "getEdepOhioBarA0 (generic function with 1 method)"
      ]
     },
     "execution_count": 7,
     "metadata": {},
     "output_type": "execute_result"
    }
   ],
   "source": [
    "function getEdepOhioBarA0(number)\n",
    "    folder = \"/home/jupyter-rubin/dosimeter/ohio_data/extracted_data/\"\n",
    "    fileName = filter(x->occursin(r\"R...txt\", x), readdir(folder))[number]\n",
    "    filePath = string(folder,fileName)\n",
    "    return Int.(round.(reshape(readdlm(filePath)[4:67,2], (8,8))))\n",
    "end"
   ]
  },
  {
   "cell_type": "code",
   "execution_count": 8,
   "id": "99ee8695-e6d6-4b88-a77b-7da230fa143c",
   "metadata": {},
   "outputs": [],
   "source": [
    "#getEdepOhioBarA0(1)"
   ]
  },
  {
   "cell_type": "code",
   "execution_count": 9,
   "id": "2ad7b606-a301-4c00-bea1-3672c72b9508",
   "metadata": {},
   "outputs": [
    {
     "data": {
      "text/plain": [
       "getEdepOhioBarA90 (generic function with 1 method)"
      ]
     },
     "execution_count": 9,
     "metadata": {},
     "output_type": "execute_result"
    }
   ],
   "source": [
    "function getEdepOhioBarA90(number)\n",
    "    folder = \"/home/jupyter-rubin/dosimeter/ohio_data/extracted_data/\"\n",
    "    fileName = filter(x->occursin(r\"R.._r.txt\", x), readdir(folder))[number]\n",
    "    filePath = string(folder,fileName)\n",
    "    return Int.(round.(reshape(readdlm(filePath)[4:67,2], (8,8))))\n",
    "end"
   ]
  },
  {
   "cell_type": "code",
   "execution_count": 10,
   "id": "c4a825ed-b6e8-4f37-841b-95b32415a4f8",
   "metadata": {},
   "outputs": [],
   "source": [
    "#getEdepOhioBarA90(1)"
   ]
  },
  {
   "cell_type": "code",
   "execution_count": 11,
   "id": "0f5dda1b-0510-484b-949a-07339c974c4c",
   "metadata": {},
   "outputs": [
    {
     "data": {
      "text/plain": [
       "normalize (generic function with 1 method)"
      ]
     },
     "execution_count": 11,
     "metadata": {},
     "output_type": "execute_result"
    }
   ],
   "source": [
    "function normalize(inputArray)\n",
    "    min = minimum(inputArray)\n",
    "    inputArray = inputArray.-min\n",
    "    max = maximum(inputArray)/2048\n",
    "    inputArray = inputArray./max\n",
    "    return Int.(round.(inputArray))\n",
    "end"
   ]
  },
  {
   "cell_type": "code",
   "execution_count": 12,
   "id": "b0ca254a-2570-4962-9a73-aa66d8becd17",
   "metadata": {},
   "outputs": [],
   "source": [
    "#normalize(getEdepOhioBarA90(1))"
   ]
  },
  {
   "cell_type": "code",
   "execution_count": 13,
   "id": "0116d8cb-ae7d-4f70-b895-2f393159f9d3",
   "metadata": {},
   "outputs": [],
   "source": [
    "#normalize(getEdepOhioBarA0(1))"
   ]
  },
  {
   "cell_type": "code",
   "execution_count": 14,
   "id": "852a2069-926c-46a8-be5b-057f8961961c",
   "metadata": {},
   "outputs": [
    {
     "data": {
      "text/plain": [
       "makeTrainingData (generic function with 1 method)"
      ]
     },
     "execution_count": 14,
     "metadata": {},
     "output_type": "execute_result"
    }
   ],
   "source": [
    "function makeTrainingData()\n",
    "    numRuns = 15\n",
    "    folder = \"/home/jupyter-rubin/dosimeter/gate_data/bars/\"\n",
    "    trainingSize = size(filter(x->occursin(\"A000\", x), readdir(folder)))[1]\n",
    "    trainingArray = Array{Int64}(undef, 8, 8, 2, trainingSize*numRuns)\n",
    "    for i = 1:trainingSize\n",
    "        for r = 1:15\n",
    "            trainingArray[:, :, 1, (i-1)*numRuns + r] = getEdepGateBarA0(i, (r-1)*15)\n",
    "            trainingArray[:, :, 2, (i-1)*numRuns + r] = getEdepGateBarA90(i, (r-1)*15)\n",
    "        end\n",
    "    end\n",
    "    return trainingArray\n",
    "end"
   ]
  },
  {
   "cell_type": "code",
   "execution_count": 15,
   "id": "462f4dec-4b0d-40ac-bb39-eb78e91ef596",
   "metadata": {},
   "outputs": [
    {
     "data": {
      "text/plain": [
       "makeValidationData (generic function with 1 method)"
      ]
     },
     "execution_count": 15,
     "metadata": {},
     "output_type": "execute_result"
    }
   ],
   "source": [
    "function makeValidationData()\n",
    "    numRuns = 18-15\n",
    "    folder = \"/home/jupyter-rubin/dosimeter/gate_data/bars/\"\n",
    "    trainingSize = size(filter(x->occursin(\"A000\", x), readdir(folder)))[1]\n",
    "    trainingArray = Array{Int64}(undef, 8, 8, 2, trainingSize*numRuns)\n",
    "    for i = 1:trainingSize\n",
    "        for r = 1:numRuns\n",
    "            trainingArray[:, :, 1, (i-1)*numRuns + r] = getEdepGateBarA0(i, (r-1)*15 + 225)\n",
    "            trainingArray[:, :, 2, (i-1)*numRuns + r] = getEdepGateBarA90(i, (r-1)*15 + 225)\n",
    "        end\n",
    "    end\n",
    "    return trainingArray\n",
    "end"
   ]
  },
  {
   "cell_type": "code",
   "execution_count": 16,
   "id": "2ae5e983-db96-4e1c-99e6-08955435b2a9",
   "metadata": {},
   "outputs": [
    {
     "data": {
      "text/plain": [
       "8×8×2×7500 Array{Int64, 4}:\n",
       "[:, :, 1, 1] =\n",
       " 2  3   2  379  382   3  0  0\n",
       " 0  2   2  304  404   2  2  0\n",
       " 2  2   5  320  341   2  0  0\n",
       " 2  1  23  399  375   3  4  0\n",
       " 1  3   6  369  484   7  1  0\n",
       " 0  2   2  374  469   4  1  2\n",
       " 1  1   3  253  421   4  1  2\n",
       " 1  0  29  156  193  20  3  1\n",
       "\n",
       "[:, :, 2, 1] =\n",
       " 1   3  20  462  306   2  1  1\n",
       " 0   5  21  517  295   2  1  1\n",
       " 0   1   2  557  406   2  1  0\n",
       " 1   0   5  497  517   2  4  1\n",
       " 0   0  11  421  390   4  2  2\n",
       " 1   2  35  334  254   2  3  0\n",
       " 1   0  27  339  417  11  0  1\n",
       " 1  31   1  218  239  20  0  1\n",
       "\n",
       "[:, :, 1, 2] =\n",
       "  0  4  13  300  300   6  2  2\n",
       "  1  1   4  429  344   5  1  0\n",
       "  2  3   3  398  331  20  4  2\n",
       "  2  2  35  536  321   2  1  1\n",
       "  3  1  20  577  450   3  1  2\n",
       "  1  2   5  406  504   2  1  3\n",
       "  0  1   1  393  333   3  3  0\n",
       " 35  2   1  126  155  11  1  0\n",
       "\n",
       "[:, :, 2, 2] =\n",
       " 2   3   5  430  380  18  1  1\n",
       " 2   2   7  449  366   3  3  0\n",
       " 2   1   3  472  407   8  4  1\n",
       " 2   2   4  409  423   5  3  2\n",
       " 1   3   4  314  350   5  1  0\n",
       " 0   2  10  386  374   7  4  1\n",
       " 1   3   0  324  422   2  1  1\n",
       " 1  11   2  139  224   3  0  1\n",
       "\n",
       "[:, :, 1, 3] =\n",
       " 2   3   4  257  299   6  2   1\n",
       " 2   1  25  366  421   2  3   1\n",
       " 2   2   4  341  464  35  0   2\n",
       " 0   2  15  327  511   1  0   3\n",
       " 1   0   4  388  463  17  0   0\n",
       " 1   0   2  505  347   2  1   0\n",
       " 1  17   3  387  280   2  1   0\n",
       " 0  17  11  168  175  21  4  11\n",
       "\n",
       "[:, :, 2, 3] =\n",
       "  4  1   4  412  402  6  2  0\n",
       "  1  3   5  295  378  2  2  1\n",
       "  5  2   4  346  450  1  2  2\n",
       "  1  2   5  365  508  5  1  1\n",
       "  2  2   4  321  493  7  2  2\n",
       "  1  2   5  270  389  3  3  1\n",
       "  2  2  16  192  244  1  0  1\n",
       " 20  0  10  118  155  8  1  0\n",
       "\n",
       "...\n",
       "\n",
       "[:, :, 1, 7498] =\n",
       " 22  303  606  723  719  593  443  42\n",
       " 48  342  685  670  744  584  297  57\n",
       " 17  331  477  622  652  538  279   3\n",
       "  9  194  473  436  548  538  403  24\n",
       "  2  174  442  487  472  422  248   5\n",
       "  7  153  371  369  322  239  156  28\n",
       " 11   53  195  314  170  178   85   0\n",
       "  2   20   46  172  158   87   17   0\n",
       "\n",
       "[:, :, 2, 7498] =\n",
       "  13  240  741  689  781  816  445  40\n",
       "  43  292  752  664  735  895  347  50\n",
       " 101  305  680  544  618  850  446  18\n",
       "  44  319  590  414  569  643  364  36\n",
       "  19  239  370  447  449  527  259  13\n",
       "   2  158  266  380  342  423  196   7\n",
       "  11   94  146  185  213  216  153   5\n",
       "   0   31   23   87  100   52   49   6\n",
       "\n",
       "[:, :, 1, 7499] =\n",
       " 45  271  598  696  622  828  304  86\n",
       " 13  324  611  648  660  711  398  94\n",
       " 20  246  568  651  597  534  384  49\n",
       " 33  284  363  497  473  429  291  41\n",
       " 17  169  361  448  431  426  201   1\n",
       " 15   64  264  321  306  358  123   1\n",
       "  4   28  195  172  194  236  103   0\n",
       "  2   46   61   63   75   96   22   0\n",
       "\n",
       "[:, :, 2, 7499] =\n",
       " 25  295  646  794  623  589  308  51\n",
       " 77  294  654  782  752  600  293  72\n",
       " 91  444  529  628  618  480  344  50\n",
       " 34  394  490  452  521  438  301  39\n",
       " 25  229  339  306  334  346  261  53\n",
       " 17  115  279  223  218  324  187  32\n",
       " 12   86  224  161  112  175   97   0\n",
       "  0   19   86   85   44  110   32   0\n",
       "\n",
       "[:, :, 1, 7500] =\n",
       " 56  269  566  871  693  706  371  110\n",
       " 74  314  472  692  746  678  364  149\n",
       " 64  213  398  621  678  589  280   72\n",
       " 15  193  384  654  640  583  254   42\n",
       "  8  112  307  354  476  454  139   16\n",
       "  3   79  247  242  280  266  120   20\n",
       "  1   65  138  182  224  234   62    7\n",
       " 15   36   54  140  121   76   22    5\n",
       "\n",
       "[:, :, 2, 7500] =\n",
       " 64  222  552  662  673  601  283  129\n",
       " 73  327  595  610  589  625  306   61\n",
       " 42  325  550  593  688  623  397   18\n",
       " 56  336  391  432  627  359  304   18\n",
       " 32  218  292  395  440  297  169   18\n",
       " 25  111  196  216  270  177  178   17\n",
       "  4   98   92  103  166  117  100   33\n",
       "  0   48   35   48   64   63   31   16"
      ]
     },
     "execution_count": 16,
     "metadata": {},
     "output_type": "execute_result"
    }
   ],
   "source": [
    "makeTrainingData()"
   ]
  },
  {
   "cell_type": "code",
   "execution_count": 17,
   "id": "1320bc45-6654-4adb-988e-d9f83f43c314",
   "metadata": {},
   "outputs": [],
   "source": [
    "#makeValidationData()"
   ]
  },
  {
   "cell_type": "code",
   "execution_count": 18,
   "id": "3de9e3db-d537-4609-bfb1-cf2a8e381b4b",
   "metadata": {},
   "outputs": [
    {
     "data": {
      "text/plain": [
       "makeTargetData (generic function with 1 method)"
      ]
     },
     "execution_count": 18,
     "metadata": {},
     "output_type": "execute_result"
    }
   ],
   "source": [
    "function makeTargetData()\n",
    "    numRuns=15\n",
    "    folder = \"/home/jupyter-rubin/dosimeter/gate_data/cubes/\"\n",
    "    trainingSize = size(filter(x->occursin(\"A000\", x), readdir(folder)))[1]\n",
    "    trainingArray = Array{Int64}(undef, 8*8*8, trainingSize*numRuns)\n",
    "    for i = 1:trainingSize\n",
    "        for r = 1:numRuns\n",
    "            trainingArray[:,(i-1)*numRuns + r] = getEdepGateGrid(i, (r-1)*15)\n",
    "        end\n",
    "    end\n",
    "    return trainingArray\n",
    "end"
   ]
  },
  {
   "cell_type": "code",
   "execution_count": 19,
   "id": "ae00eecb-545d-4151-b22e-c7e6f99c7926",
   "metadata": {},
   "outputs": [
    {
     "data": {
      "text/plain": [
       "makeValTargetData (generic function with 1 method)"
      ]
     },
     "execution_count": 19,
     "metadata": {},
     "output_type": "execute_result"
    }
   ],
   "source": [
    "function makeValTargetData()\n",
    "    numRuns = 18-15\n",
    "    folder = \"/home/jupyter-rubin/dosimeter/gate_data/cubes/\"\n",
    "    trainingSize = size(filter(x->occursin(\"A000\", x), readdir(folder)))[1]\n",
    "    trainingArray = Array{Int64}(undef, 8*8*8, trainingSize*numRuns)\n",
    "    for i = 1:trainingSize\n",
    "        for r = 1:numRuns\n",
    "            trainingArray[:,(i-1)*numRuns + r] = getEdepGateGrid(i, (r-1)*15 + 225)\n",
    "        end\n",
    "    end\n",
    "    return trainingArray\n",
    "end"
   ]
  },
  {
   "cell_type": "code",
   "execution_count": 20,
   "id": "8cde2f8e-d66a-4e05-8246-2a84c112aa33",
   "metadata": {},
   "outputs": [],
   "source": [
    "#makeValTargetData()"
   ]
  },
  {
   "cell_type": "code",
   "execution_count": 21,
   "id": "58088622-63be-4eec-8586-5c1c68b0888c",
   "metadata": {},
   "outputs": [],
   "source": [
    "#makeTargetData()"
   ]
  },
  {
   "cell_type": "code",
   "execution_count": 22,
   "id": "3a7f3610-c50d-45e9-90cd-0c28704b869f",
   "metadata": {},
   "outputs": [
    {
     "data": {
      "text/plain": [
       "makeInputData (generic function with 1 method)"
      ]
     },
     "execution_count": 22,
     "metadata": {},
     "output_type": "execute_result"
    }
   ],
   "source": [
    "function makeInputData()\n",
    "    folder = \"/home/jupyter-rubin/dosimeter/ohio_data/extracted_data/\"\n",
    "    trainingSize = size(filter(x->occursin(\"_r.txt\", x), readdir(folder)))[1]\n",
    "    trainingArray = Array{Int64}(undef, 8, 8, 2, trainingSize)\n",
    "    for i = 1:trainingSize\n",
    "        trainingArray[:,:,1,i] = getEdepOhioBarA0(i)\n",
    "        trainingArray[:,:,2,i] = getEdepOhioBarA90(i)\n",
    "    end\n",
    "    return trainingArray\n",
    "end"
   ]
  },
  {
   "cell_type": "code",
   "execution_count": 23,
   "id": "fecbd79c-6be6-4eab-ac7d-20efefa331a8",
   "metadata": {},
   "outputs": [],
   "source": [
    "#makeInputData()"
   ]
  },
  {
   "cell_type": "code",
   "execution_count": 24,
   "id": "fb62be87-7544-4838-ba71-ab8853ddd038",
   "metadata": {},
   "outputs": [
    {
     "data": {
      "text/plain": [
       "8×8×2×7500 Array{Int64, 4}:\n",
       "[:, :, 1, 1] =\n",
       " 2  3   2  319  321   3  0  0\n",
       " 0  2   2  256  340   2  2  0\n",
       " 2  2   4  269  287   2  0  0\n",
       " 2  1  19  336  316   3  3  0\n",
       " 1  3   5  310  407   6  1  0\n",
       " 0  2   2  315  395   3  1  2\n",
       " 1  1   3  213  354   3  1  2\n",
       " 1  0  24  131  162  17  3  1\n",
       "\n",
       "[:, :, 2, 1] =\n",
       " 1   3  17  389  257   2  1  1\n",
       " 0   4  18  435  248   2  1  1\n",
       " 0   1   2  469  342   2  1  0\n",
       " 1   0   4  418  435   2  3  1\n",
       " 0   0   9  354  328   3  2  2\n",
       " 1   2  29  281  214   2  3  0\n",
       " 1   0  23  285  351   9  0  1\n",
       " 1  26   1  183  201  17  0  1\n",
       "\n",
       "[:, :, 1, 2] =\n",
       "  0  3  11  252  252   5  2  2\n",
       "  1  1   3  361  289   4  1  0\n",
       "  2  3   3  335  279  17  3  2\n",
       "  2  2  29  451  270   2  1  1\n",
       "  3  1  17  485  379   3  1  2\n",
       "  1  2   4  342  424   2  1  3\n",
       "  0  1   1  331  280   3  3  0\n",
       " 29  2   1  106  130   9  1  0\n",
       "\n",
       "[:, :, 2, 2] =\n",
       " 2  3  4  362  320  15  1  1\n",
       " 2  2  6  378  308   3  3  0\n",
       " 2  1  3  397  342   7  3  1\n",
       " 2  2  3  344  356   4  3  2\n",
       " 1  3  3  264  294   4  1  0\n",
       " 0  2  8  325  315   6  3  1\n",
       " 1  3  0  273  355   2  1  1\n",
       " 1  9  2  117  188   3  0  1\n",
       "\n",
       "[:, :, 1, 3] =\n",
       " 2   3   3  216  252   5  2  1\n",
       " 2   1  21  308  354   2  3  1\n",
       " 2   2   3  287  390  29  0  2\n",
       " 0   2  13  275  430   1  0  3\n",
       " 1   0   3  326  390  14  0  0\n",
       " 1   0   2  425  292   2  1  0\n",
       " 1  14   3  326  236   2  1  0\n",
       " 0  14   9  141  147  18  3  9\n",
       "\n",
       "[:, :, 2, 3] =\n",
       "  3  1   3  347  338  5  2  0\n",
       "  1  3   4  248  318  2  2  1\n",
       "  4  2   3  291  379  1  2  2\n",
       "  1  2   4  307  427  4  1  1\n",
       "  2  2   3  270  415  6  2  2\n",
       "  1  2   4  227  327  3  3  1\n",
       "  2  2  13  162  205  1  0  1\n",
       " 17  0   8   99  130  7  1  0\n",
       "\n",
       "...\n",
       "\n",
       "[:, :, 1, 7498] =\n",
       " 19  255  510  608  605  499  373  35\n",
       " 40  288  576  564  626  491  250  48\n",
       " 14  279  401  523  549  453  235   3\n",
       "  8  163  398  367  461  453  339  20\n",
       "  2  146  372  410  397  355  209   4\n",
       "  6  129  312  310  271  201  131  24\n",
       "  9   45  164  264  143  150   72   0\n",
       "  2   17   39  145  133   73   14   0\n",
       "\n",
       "[:, :, 2, 7498] =\n",
       " 11  202  623  580  657  687  374  34\n",
       " 36  246  633  559  618  753  292  42\n",
       " 85  257  572  458  520  715  375  15\n",
       " 37  268  496  348  479  541  306  30\n",
       " 16  201  311  376  378  443  218  11\n",
       "  2  133  224  320  288  356  165   6\n",
       "  9   79  123  156  179  182  129   4\n",
       "  0   26   19   73   84   44   41   5\n",
       "\n",
       "[:, :, 1, 7499] =\n",
       " 38  228  503  586  523  697  256  72\n",
       " 11  273  514  545  555  598  335  79\n",
       " 17  207  478  548  502  449  323  41\n",
       " 28  239  305  418  398  361  245  34\n",
       " 14  142  304  377  363  358  169   1\n",
       " 13   54  222  270  257  301  103   1\n",
       "  3   24  164  145  163  199   87   0\n",
       "  2   39   51   53   63   81   19   0\n",
       "\n",
       "[:, :, 2, 7499] =\n",
       " 21  248  544  668  524  496  259  43\n",
       " 65  247  550  658  633  505  247  61\n",
       " 77  374  445  528  520  404  289  42\n",
       " 29  332  412  380  438  369  253  33\n",
       " 21  193  285  257  281  291  220  45\n",
       " 14   97  235  188  183  273  157  27\n",
       " 10   72  188  135   94  147   82   0\n",
       "  0   16   72   72   37   93   27   0\n",
       "\n",
       "[:, :, 1, 7500] =\n",
       " 47  226  476  733  583  594  312   93\n",
       " 62  264  397  582  628  570  306  125\n",
       " 54  179  335  523  570  496  236   61\n",
       " 13  162  323  550  539  491  214   35\n",
       "  7   94  258  298  401  382  117   13\n",
       "  3   66  208  204  236  224  101   17\n",
       "  1   55  116  153  188  197   52    6\n",
       " 13   30   45  118  102   64   19    4\n",
       "\n",
       "[:, :, 2, 7500] =\n",
       " 54  187  464  557  566  506  238  109\n",
       " 61  275  501  513  496  526  257   51\n",
       " 35  273  463  499  579  524  334   15\n",
       " 47  283  329  363  528  302  256   15\n",
       " 27  183  246  332  370  250  142   15\n",
       " 21   93  165  182  227  149  150   14\n",
       "  3   82   77   87  140   98   84   28\n",
       "  0   40   29   40   54   53   26   13"
      ]
     },
     "execution_count": 24,
     "metadata": {},
     "output_type": "execute_result"
    }
   ],
   "source": [
    "trainingArray = normalize(makeTrainingData())"
   ]
  },
  {
   "cell_type": "code",
   "execution_count": 25,
   "id": "d31ee72b-5d1e-4ffe-acf4-2bfc8e34bb50",
   "metadata": {},
   "outputs": [
    {
     "data": {
      "text/plain": [
       "512×7500 Matrix{Int64}:\n",
       " 0  0  0  1  0  0  0  0  0  0  0  0  0  …   0   0  26  0  0   0  0  0  2  0\n",
       " 1  0  0  0  0  1  0  0  0  0  0  0  0     17   0   8  0  0  17  0  0  0  4\n",
       " 0  0  0  0  0  0  0  0  0  0  0  0  0     10   0   0  0  0   0  0  0  0  0\n",
       " 1  0  0  0  0  0  0  0  0  0  0  0  0      0   0   0  0  0   0  0  0  0  0\n",
       " 0  0  0  0  0  0  0  0  0  0  0  0  0      1   0   0  0  0   0  0  0  0  0\n",
       " 0  1  0  0  0  0  0  0  0  0  0  0  0  …   0   0   0  1  0   0  0  0  0  0\n",
       " 0  0  1  1  0  0  0  0  0  0  0  1  0      0   0   0  1  0   0  0  0  0  0\n",
       " 0  0  1  0  2  0  0  0  0  0  1  0  0      0   0   0  0  0   0  0  0  0  0\n",
       " 0  0  0  0  0  0  0  0  0  0  0  0  1     10   4  20  0  1  22  0  0  1  0\n",
       " 0  1  0  0  1  0  0  0  0  0  0  0  0      8  13   0  0  1  19  2  0  2  5\n",
       " 0  0  1  0  0  0  0  0  0  0  0  0  0  …  32   3   0  0  1  19  0  1  3  5\n",
       " 0  0  0  0  0  1  0  0  0  0  0  0  0     17   0   0  1  0   0  0  0  2  1\n",
       " 0  0  0  0  0  0  0  0  0  0  0  0  0      1   0   0  0  0  18  0  0  1  1\n",
       " ⋮              ⋮              ⋮        ⋱   ⋮                 ⋮           \n",
       " 0  0  0  0  0  0  0  0  0  1  0  0  0  …   0   0  16  0  0   1  0  0  0  0\n",
       " 0  0  0  0  0  0  0  0  0  0  0  0  0      0   0   4  0  0   0  0  0  0  0\n",
       " 0  0  0  0  0  0  0  0  0  0  0  0  0      0   0   0  0  0   0  0  0  0  0\n",
       " 0  0  0  0  0  0  0  0  0  0  0  0  0      0   0   0  0  0   0  0  0  0  0\n",
       " 0  0  0  0  0  0  0  0  0  0  0  1  0      0   0   9  0  0  16  0  1  3  0\n",
       " 0  1  2  0  0  0  0  0  0  0  0  0  0  …   0  12   0  0  0   7  0  0  5  0\n",
       " 0  0  0  0  0  0  0  0  0  0  0  0  1      0   0   0  0  0   2  0  0  2  0\n",
       " 0  0  0  0  0  0  0  0  0  0  0  0  0      0   0   0  0  0  12  0  0  0  0\n",
       " 0  0  0  0  0  0  0  0  2  0  0  0  0      0   0   0  0  0   9  0  0  0  0\n",
       " 0  0  1  0  0  0  0  0  0  0  0  0  0      0   0   0  0  1  13  0  0  0  0\n",
       " 0  0  0  0  0  1  1  0  0  0  0  0  0  …   0   0   0  0  1   0  0  0  0  0\n",
       " 0  0  0  0  0  1  0  0  1  0  0  0  0      0   0   0  0  0   0  0  0  0  0"
      ]
     },
     "execution_count": 25,
     "metadata": {},
     "output_type": "execute_result"
    }
   ],
   "source": [
    "targetArray = makeTargetData()"
   ]
  },
  {
   "cell_type": "code",
   "execution_count": 26,
   "id": "3bad0964-a5e4-48b1-8ce2-0d1c923c0e13",
   "metadata": {},
   "outputs": [
    {
     "data": {
      "text/plain": [
       "8×8×2×1500 Array{Int64, 4}:\n",
       "[:, :, 1, 1] =\n",
       " 1  2   5  391  331  27   1   2\n",
       " 2  3   2  537  408  18   2   1\n",
       " 0  2  11  430  461   4   1   0\n",
       " 0  2   4  341  550   3   2   1\n",
       " 1  1   4  487  360   6   1   0\n",
       " 3  1   4  433  399   5   3   2\n",
       " 3  1   3  365  363   2   5   0\n",
       " 0  1  48  162  188  25  17  28\n",
       "\n",
       "[:, :, 2, 1] =\n",
       " 1  2   3  447  587   2  1  0\n",
       " 1  1   4  475  578   3  3  3\n",
       " 1  1   6  390  460   6  5  2\n",
       " 1  4  20  340  419   7  1  1\n",
       " 0  3   3  376  364   3  4  1\n",
       " 0  1   7  503  401   3  1  1\n",
       " 1  1   3  273  323   5  1  1\n",
       " 1  1   5  192  141  12  2  1\n",
       "\n",
       "[:, :, 1, 2] =\n",
       " 1  0  4  304  321   1  1  0\n",
       " 2  2  5  251  256   3  2  0\n",
       " 1  2  4  356  362   4  2  2\n",
       " 0  2  5  353  554  27  3  1\n",
       " 1  3  4  454  515  28  0  1\n",
       " 2  4  3  461  517   1  3  2\n",
       " 1  1  2  263  370   0  2  0\n",
       " 1  3  1  198  147   1  1  1\n",
       "\n",
       "[:, :, 2, 2] =\n",
       " 3  1   5  411  317  0  1  1\n",
       " 2  1   2  389  318  4  1  2\n",
       " 3  3   2  330  426  3  2  5\n",
       " 1  0   8  418  533  5  6  5\n",
       " 2  4   2  372  473  4  1  0\n",
       " 1  3   3  342  425  5  0  1\n",
       " 1  3   2  332  211  1  1  0\n",
       " 1  1  18  108   82  1  1  1\n",
       "\n",
       "[:, :, 1, 3] =\n",
       " 0  3   2  395  434   1   3   1\n",
       " 1  0   3  329  377   2   2   1\n",
       " 1  2   4  329  426   5   3   2\n",
       " 1  1   3  399  375  16   3   2\n",
       " 0  5   2  409  377   2   3   1\n",
       " 0  1   5  451  339   3   1   2\n",
       " 0  0   2  287  184   2   3   0\n",
       " 1  1  58  196  121   2  13  30\n",
       "\n",
       "[:, :, 2, 3] =\n",
       "  3   3   3  412  472  20  0  2\n",
       "  1   5   3  284  377   4  3  2\n",
       "  1   1   2  277  405   2  3  1\n",
       "  2   3   3  292  457  24  1  1\n",
       "  1   4   5  363  377   8  1  0\n",
       "  1   2   9  382  475   5  1  1\n",
       "  0   0   2  316  292   3  1  0\n",
       " 13  11  10  221  122   1  1  3\n",
       "\n",
       "...\n",
       "\n",
       "[:, :, 1, 1498] =\n",
       " 145  303  585  734  1026  448  295   64\n",
       " 102  432  610  738   865  497  259   79\n",
       "  86  355  570  645   762  500  239   83\n",
       "  84  220  449  651   720  510  219  121\n",
       "  46  148  290  631   749  337  145   86\n",
       "   4   92  221  421   486  203  117   54\n",
       "   0   47  145  251   171  154   42   14\n",
       "   0   17   53   68    86   82   23    3\n",
       "\n",
       "[:, :, 2, 1498] =\n",
       " 107  296  651  738  733  551  391   94\n",
       " 199  322  592  994  692  487  284  113\n",
       "  92  236  566  783  608  500  235   74\n",
       "  69  183  407  651  515  428  153   17\n",
       "  60  162  457  423  474  317  131   35\n",
       "  21  172  295  553  236  284   87   21\n",
       "   7   74  111  223  206  181   70    5\n",
       "   1   16   32   78   72   45   25    1\n",
       "\n",
       "[:, :, 1, 1499] =\n",
       " 112  245  409  729  809  592  301  51\n",
       "  95  298  372  694  741  603  333  34\n",
       "  90  261  576  680  737  467  236  42\n",
       "  31  178  475  496  560  393  186  33\n",
       "  17  232  473  359  455  406  135  54\n",
       "  11  143  277  244  304  235  106  55\n",
       "   6   81  225  132  211  112   47  29\n",
       "   7   49  128   93  134   63   18  22\n",
       "\n",
       "[:, :, 2, 1499] =\n",
       " 81  266  643  841  862  757  286  109\n",
       " 84  408  674  777  877  675  289  135\n",
       " 73  270  523  654  893  694  334   62\n",
       " 17  266  399  638  702  585  297   40\n",
       " 14  186  369  514  451  465  198   72\n",
       " 21  120  304  327  433  309  166   14\n",
       " 11   84  163  259  319  221   65   11\n",
       "  0   18   65  102  140  105   26    4\n",
       "\n",
       "[:, :, 1, 1500] =\n",
       " 153  289  541  744  1030  660  313  61\n",
       "  70  329  517  668   875  733  259  44\n",
       "  94  258  564  606   778  744  270  14\n",
       "  62  227  500  498   499  603  204  40\n",
       "   9  116  360  360   467  511  203  26\n",
       "   5   68  283  280   379  378  144   0\n",
       "   2   63  172  185   223  227   51   0\n",
       "   1   16   50   65   121   77   17   1\n",
       "\n",
       "[:, :, 2, 1500] =\n",
       " 113  398  749  734  603  675  460  47\n",
       " 123  342  631  690  606  775  452  88\n",
       "  46  326  545  622  575  758  346  41\n",
       "  43  286  508  611  632  719  264  19\n",
       "  15  234  324  362  628  554  169   7\n",
       "   0  180  201  368  400  368  140   4\n",
       "   1   43  106  230  324  168   55   2\n",
       "  27   19   52   90  116   57   19   1"
      ]
     },
     "execution_count": 26,
     "metadata": {},
     "output_type": "execute_result"
    }
   ],
   "source": [
    "validationArray = normalize(makeValidationData())"
   ]
  },
  {
   "cell_type": "code",
   "execution_count": 27,
   "id": "3abbaca2-1ed7-4bcb-a9df-dd65eea7dec7",
   "metadata": {},
   "outputs": [
    {
     "data": {
      "text/plain": [
       "512×1500 Matrix{Int64}:\n",
       " 0  0  0  0  0  0  1  0  0  0  0  0  0  …  0  0  0   0  3  0  0   0  0  0  20\n",
       " 0  0  0  0  0  0  0  0  0  0  0  0  0     0  0  0   0  0  0  0   0  0  0   0\n",
       " 1  1  0  0  1  0  0  0  1  0  0  0  0     0  0  0   0  0  0  0   0  0  0   0\n",
       " 0  0  0  0  0  0  0  1  0  0  0  0  0     0  0  0   0  0  0  1   1  0  0   0\n",
       " 0  0  0  0  0  0  0  0  0  0  0  0  0     0  0  0   0  0  0  0   0  0  0   0\n",
       " 0  1  0  0  0  0  0  0  0  0  0  1  0  …  0  0  0   0  0  0  0   0  0  0   0\n",
       " 0  0  0  0  0  0  0  0  0  0  0  0  0     0  0  0   0  0  0  0   0  0  0   0\n",
       " 0  0  0  0  0  0  0  0  0  0  0  1  0     0  0  0   0  0  0  0   0  0  0   0\n",
       " 0  1  0  0  0  0  0  0  0  0  0  0  0     0  0  0   0  5  0  3   0  0  0  10\n",
       " 0  1  0  0  0  0  1  0  0  0  1  0  0     0  0  0   0  0  0  0   0  0  0   0\n",
       " 1  1  0  0  0  0  0  0  0  2  0  0  0  …  0  0  0   0  0  0  3   0  0  0   0\n",
       " 0  0  0  0  0  0  0  0  0  0  0  0  0     1  0  0   0  0  0  0  13  0  0   0\n",
       " 0  1  0  0  0  0  0  0  0  0  0  0  0     0  0  1   0  0  0  0  32  0  0   9\n",
       " ⋮              ⋮              ⋮        ⋱     ⋮               ⋮            \n",
       " 0  0  0  0  0  0  0  0  0  0  0  0  0  …  0  0  0  26  0  0  0   0  0  0   0\n",
       " 0  0  0  0  0  0  0  0  0  1  0  0  0     0  0  0   0  0  0  0   0  0  1   0\n",
       " 0  0  0  0  0  0  1  0  0  0  0  0  0     0  0  0   1  0  1  0   0  0  0   0\n",
       " 0  0  0  0  1  0  0  0  0  0  0  0  0     0  0  0   0  0  0  0   0  0  0   0\n",
       " 0  0  0  0  0  0  0  0  1  0  0  0  1     1  5  0   0  0  0  0   0  0  0   0\n",
       " 0  0  0  0  0  1  0  0  0  0  0  0  0  …  0  0  0   0  0  0  1   0  0  0   0\n",
       " 0  0  0  0  0  0  0  1  0  1  0  0  0     0  0  0   0  0  0  5   0  0  0   0\n",
       " 0  0  0  0  0  2  0  0  0  0  0  0  0     0  0  0   0  0  0  0   0  0  0   0\n",
       " 0  0  0  0  0  0  0  0  0  0  0  0  0     1  0  0   0  0  0  0   1  0  0   0\n",
       " 0  0  0  0  0  0  0  0  0  0  0  0  0     0  0  0   0  0  0  0   1  0  0   0\n",
       " 0  0  0  0  0  0  0  0  0  1  0  0  0  …  0  0  0   0  0  0  0   0  1  0   0\n",
       " 0  0  0  0  0  0  0  0  0  0  0  0  0     0  0  0   0  0  0  0   0  0  0   0"
      ]
     },
     "execution_count": 27,
     "metadata": {},
     "output_type": "execute_result"
    }
   ],
   "source": [
    "validationTargetArray = makeValTargetData()"
   ]
  },
  {
   "cell_type": "code",
   "execution_count": 28,
   "id": "cd7e2adf-12a3-4f45-90d6-767f891294eb",
   "metadata": {},
   "outputs": [
    {
     "data": {
      "text/plain": [
       "8×8×2×21 Array{Int64, 4}:\n",
       "[:, :, 1, 1] =\n",
       " 31  34  43  104  173  45  35  31\n",
       " 32  36  39   98  237  51  34  32\n",
       " 30  33  46  157  244  47  35  32\n",
       " 31  36  38  101  402  59  33  32\n",
       " 33  38  46  146  287  61  35  33\n",
       " 32  32  48  134  203  56  36  32\n",
       " 31  31  47  109  299  50  40  31\n",
       " 29  31  35   70  152  58  35  31\n",
       "\n",
       "[:, :, 2, 1] =\n",
       " 16  18  36   84   64  30  17  16\n",
       " 16  20  35   72   87  44  17  16\n",
       " 14  17  46  133   87  39  18  16\n",
       " 16  19  30   76  119  54  17  16\n",
       " 17  22  46  116  105  57  18  17\n",
       " 16  16  50  107   72  51  18  16\n",
       " 15  15  52   82   99  39  21  15\n",
       " 14  16  25   48   54  49  18  15\n",
       "\n",
       "[:, :, 1, 2] =\n",
       " 16  18  22  120   70  20  17  16\n",
       " 16  18  19  103   85  19  17  16\n",
       " 15  17  23  185   96  19  17  16\n",
       " 16  18  19  105  133  21  16  16\n",
       " 17  19  22  163  108  22  17  17\n",
       " 16  16  24  147   82  21  17  16\n",
       " 16  16  23  111  135  20  19  16\n",
       " 15  16  18   63   74  22  17  16\n",
       "\n",
       "[:, :, 2, 2] =\n",
       " 12  13  30   73   55  24  13  12\n",
       " 12  15  29   62   75  37  13  12\n",
       " 11  13  38  110   75  32  13  12\n",
       " 12  14  24   65  102  45  12  12\n",
       " 13  16  38  100   91  47  14  12\n",
       " 12  12  42   92   62  42  14  12\n",
       " 11  12  43   70   85  32  16  12\n",
       " 10  12  20   40   45  41  14  12\n",
       "\n",
       "[:, :, 1, 3] =\n",
       " 4  5   8  48  27   6  5  4\n",
       " 4  6   7  40  34   8  5  4\n",
       " 3  4  10  75  39   7  5  4\n",
       " 4  6   6  42  54   9  4  4\n",
       " 4  7   9  66  45  10  5  4\n",
       " 4  4  10  59  32   8  5  4\n",
       " 4  4  10  44  53   7  6  4\n",
       " 3  4   5  23  27   9  5  3\n",
       "\n",
       "[:, :, 2, 3] =\n",
       " 3  4  6  42  36  5  3  3\n",
       " 3  5  4  37  48  5  3  3\n",
       " 2  3  6  71  52  4  3  3\n",
       " 3  4  4  40  73  6  3  3\n",
       " 3  5  6  64  63  7  4  3\n",
       " 3  3  7  58  42  6  4  3\n",
       " 2  2  6  43  65  5  5  3\n",
       " 1  2  3  21  31  7  3  2\n",
       "\n",
       "...\n",
       "\n",
       "[:, :, 1, 19] =\n",
       " 22  24  29   67  116  30  24  22\n",
       " 23  25  26   69  171  33  24  23\n",
       " 21  23  31  131  181  32  24  22\n",
       " 22  25  26   79  229  40  23  22\n",
       " 23  26  31  128  213  42  24  23\n",
       " 22  22  33  121  156  39  25  22\n",
       " 21  22  32   90  225  36  27  22\n",
       " 20  22  25   57  129  41  24  22\n",
       "\n",
       "[:, :, 2, 19] =\n",
       " 20  23  51   77   60  40  23  19\n",
       " 20  28  53   73   88  70  24  20\n",
       " 18  24  78  145   94  64  26  20\n",
       " 20  30  49   85  141  93  25  20\n",
       " 21  35  81  141  119  99  29  21\n",
       " 20  23  87  122   83  89  28  20\n",
       " 19  22  91   94  113  62  34  19\n",
       " 17  22  40   56   63  77  27  19\n",
       "\n",
       "[:, :, 1, 20] =\n",
       "  9  11  17  43   72  16  11   9\n",
       " 10  13  16  44  109  22  12  10\n",
       "  8  10  21  88  127  21  13   9\n",
       "  9  13  15  54  179  30  11  10\n",
       " 10  14  22  86  158  33  13  10\n",
       "  9  10  24  80  103  29  13   9\n",
       "  8   9  23  62  161  23  16   9\n",
       "  7   9  13  34   80  28  12   9\n",
       "\n",
       "[:, :, 2, 20] =\n",
       " 12  14  18   67   54  16  13  12\n",
       " 13  16  17   66   84  21  13  13\n",
       " 11  13  23  133   91  20  14  12\n",
       " 12  15  17   77  133  28  13  13\n",
       " 13  17  24  127  114  29  14  13\n",
       " 13  12  25  112   78  27  14  12\n",
       " 12  12  25   86  111  22  16  12\n",
       " 10  12  15   48   59  27  14  12\n",
       "\n",
       "[:, :, 1, 21] =\n",
       " 47  52  66  118  176  63  54  47\n",
       " 48  58  62  118  263  76  56  48\n",
       " 45  52  78  214  284  73  59  48\n",
       " 47  58  62  132  433  94  56  48\n",
       " 49  64  79  210  341  97  60  49\n",
       " 48  50  82  199  234  90  60  48\n",
       " 46  48  81  162  437  79  69  47\n",
       " 43  49  57  102  206  91  59  47\n",
       "\n",
       "[:, :, 2, 21] =\n",
       " 27  39   69   93   73   52  40  27\n",
       " 29  56   70   88  106   91  47  29\n",
       " 26  47  103  165  112   84  55  29\n",
       " 28  63   66  100  158  121  49  30\n",
       " 32  77  107  158  137  128  57  30\n",
       " 30  44  114  150   98  115  55  30\n",
       " 27  39  118  112  136   81  73  28\n",
       " 24  40   54   70   77  100  53  27"
      ]
     },
     "execution_count": 28,
     "metadata": {},
     "output_type": "execute_result"
    }
   ],
   "source": [
    "inputArray = normalize(makeInputData())"
   ]
  },
  {
   "cell_type": "code",
   "execution_count": 29,
   "id": "020ccd56-208a-437e-93af-6fead92ded81",
   "metadata": {},
   "outputs": [
    {
     "data": {
      "text/plain": [
       "plotResults (generic function with 1 method)"
      ]
     },
     "execution_count": 29,
     "metadata": {},
     "output_type": "execute_result"
    }
   ],
   "source": [
    "function plotResults(m)\n",
    "    image = rand((1: size(inputArray)[4]))\n",
    "    print(image)\n",
    "    display(heatmap(reshape(m(validationArray)[:,image], (8,8*8)), xlabel=\"Length/Height\", ylabel=\"Width\", title=\"GATE Prediction\"))\n",
    "    display(heatmap(reshape(validationTargetArray[:,image], (8,8*8)), xlabel=\"Length/Height\", ylabel=\"Width\", title=\"GATE Target\"))\n",
    "    display(heatmap(reshape(m(inputArray)[:,image], (8,8*8)), xlabel=\"Length/Height\", ylabel=\"Width\", title=\"Ohio Data Prediction\"))\n",
    "end"
   ]
  },
  {
   "cell_type": "code",
   "execution_count": 30,
   "id": "6c41f5cd-ee69-45c7-be69-fb537156d028",
   "metadata": {},
   "outputs": [],
   "source": [
    "#plotResults(m)"
   ]
  },
  {
   "cell_type": "code",
   "execution_count": 121,
   "id": "af3c23a2-4c06-4683-9f2c-4ebd27820862",
   "metadata": {},
   "outputs": [
    {
     "data": {
      "text/plain": [
       "Chain(Conv((2, 2), 2=>16, relu), #175, Dropout(0.03), Dense(1296, 1800), Dense(1800, 512))"
      ]
     },
     "execution_count": 121,
     "metadata": {},
     "output_type": "execute_result"
    }
   ],
   "source": [
    "m = Chain(Conv((2,2), 2=>16, pad=(1,1), relu),\n",
    "        x -> reshape(x, :, size(x,4)),\n",
    "        Dropout(0.03),\n",
    "\n",
    "        Dense(1296, 1800),\n",
    "\n",
    "        Dense(1800, 8*8*8))"
   ]
  },
  {
   "cell_type": "code",
   "execution_count": 122,
   "id": "b91971e2-2cbe-428e-b0ba-c4423db5b2d2",
   "metadata": {
    "tags": []
   },
   "outputs": [
    {
     "name": "stdout",
     "output_type": "stream",
     "text": [
      "Training R2: 0.012252350387457867\n",
      "Validation R2: 0.006967177505198485\n"
     ]
    }
   ],
   "source": [
    "loss(x, y) = mean((m(x)-y).^2)\n",
    "opt = ADAM()\n",
    "dataset = (repeated((trainingArray, targetArray), 100))\n",
    "evalcb = () -> @show (loss(trainingArray, targetArray)) \n",
    "CurrentR2 = r2(lm(@formula(A  ~ B), DataFrame(A=Float64.(m(trainingArray)[:,1]), B=targetArray[:,1])))\n",
    "print(\"Training R2: \", CurrentR2, '\\n')\n",
    "CurrentVR2 = r2(lm(@formula(A  ~ B), DataFrame(A=Float64.(m(validationArray)[:,1]), B=validationTargetArray[:,1])))\n",
    "print(\"Validation R2: \", CurrentVR2, '\\n')"
   ]
  },
  {
   "cell_type": "code",
   "execution_count": 123,
   "id": "406331ec-243f-45fe-a417-98556c85778c",
   "metadata": {
    "tags": []
   },
   "outputs": [
    {
     "name": "stdout",
     "output_type": "stream",
     "text": [
      "loss(trainingArray, targetArray) = 18588.48f0\n",
      "loss(trainingArray, targetArray) = 6885.636f0\n",
      "loss(trainingArray, targetArray) = 3786.4214f0\n",
      "loss(trainingArray, targetArray) = 2563.4111f0\n",
      "loss(trainingArray, targetArray) = 2076.8997f0\n",
      "loss(trainingArray, targetArray) = 1810.0184f0\n",
      "loss(trainingArray, targetArray) = 1550.9272f0\n",
      "loss(trainingArray, targetArray) = 1433.4678f0\n",
      "loss(trainingArray, targetArray) = 1309.0891f0\n",
      "loss(trainingArray, targetArray) = 1230.5898f0\n",
      "loss(trainingArray, targetArray) = 1203.7517f0\n",
      "loss(trainingArray, targetArray) = 1158.5579f0\n",
      "loss(trainingArray, targetArray) = 1129.9674f0\n",
      "loss(trainingArray, targetArray) = 1117.4913f0\n",
      "loss(trainingArray, targetArray) = 1100.1058f0\n",
      "loss(trainingArray, targetArray) = 1086.1986f0\n",
      "loss(trainingArray, targetArray) = 1079.2242f0\n",
      "loss(trainingArray, targetArray) = 1069.8752f0\n",
      "loss(trainingArray, targetArray) = 1061.9305f0\n",
      "loss(trainingArray, targetArray) = 1056.3146f0\n",
      "loss(trainingArray, targetArray) = 1050.2722f0\n",
      "loss(trainingArray, targetArray) = 1044.6953f0\n",
      "loss(trainingArray, targetArray) = 1040.1941f0\n",
      "loss(trainingArray, targetArray) = 1035.5864f0\n",
      "loss(trainingArray, targetArray) = 1031.3289f0\n",
      "loss(trainingArray, targetArray) = 1027.5424f0\n",
      "Training R2: 0.9173118658012918\n",
      "Validation R2: 0.9298974168439671\n",
      "loss(trainingArray, targetArray) = 1023.8007f0\n",
      "loss(trainingArray, targetArray) = 1020.33f0\n",
      "loss(trainingArray, targetArray) = 1017.0775f0\n",
      "loss(trainingArray, targetArray) = 1013.9649f0\n",
      "loss(trainingArray, targetArray) = 1011.0232f0\n",
      "loss(trainingArray, targetArray) = 1008.22815f0\n",
      "loss(trainingArray, targetArray) = 1006.2196f0\n",
      "loss(trainingArray, targetArray) = 1003.6558f0\n",
      "loss(trainingArray, targetArray) = 1001.18176f0\n",
      "loss(trainingArray, targetArray) = 998.7953f0\n",
      "loss(trainingArray, targetArray) = 996.49945f0\n",
      "loss(trainingArray, targetArray) = 994.23236f0\n",
      "loss(trainingArray, targetArray) = 991.9739f0\n",
      "loss(trainingArray, targetArray) = 989.6127f0\n",
      "loss(trainingArray, targetArray) = 987.2124f0\n",
      "loss(trainingArray, targetArray) = 984.68225f0\n",
      "loss(trainingArray, targetArray) = 982.15985f0\n",
      "loss(trainingArray, targetArray) = 980.23895f0\n",
      "loss(trainingArray, targetArray) = 977.7696f0\n",
      "loss(trainingArray, targetArray) = 975.4481f0\n",
      "loss(trainingArray, targetArray) = 973.2104f0\n",
      "loss(trainingArray, targetArray) = 971.1043f0\n",
      "loss(trainingArray, targetArray) = 969.0736f0\n",
      "loss(trainingArray, targetArray) = 967.1384f0\n",
      "loss(trainingArray, targetArray) = 965.33136f0\n",
      "loss(trainingArray, targetArray) = 963.57166f0\n",
      "Training R2: 0.9215076367384831\n",
      "Validation R2: 0.9433996258106033\n",
      "loss(trainingArray, targetArray) = 962.6907f0\n",
      "loss(trainingArray, targetArray) = 960.99036f0\n",
      "loss(trainingArray, targetArray) = 959.31f0\n",
      "loss(trainingArray, targetArray) = 957.6812f0\n",
      "loss(trainingArray, targetArray) = 956.06433f0\n",
      "loss(trainingArray, targetArray) = 954.54315f0\n",
      "loss(trainingArray, targetArray) = 953.1057f0\n",
      "loss(trainingArray, targetArray) = 951.6864f0\n",
      "loss(trainingArray, targetArray) = 950.4052f0\n",
      "loss(trainingArray, targetArray) = 949.222f0\n",
      "loss(trainingArray, targetArray) = 948.04706f0\n",
      "loss(trainingArray, targetArray) = 946.9613f0\n",
      "loss(trainingArray, targetArray) = 945.9523f0\n",
      "loss(trainingArray, targetArray) = 944.9564f0\n",
      "loss(trainingArray, targetArray) = 943.9863f0\n",
      "loss(trainingArray, targetArray) = 943.27344f0\n",
      "loss(trainingArray, targetArray) = 942.37573f0\n",
      "loss(trainingArray, targetArray) = 941.493f0\n",
      "loss(trainingArray, targetArray) = 940.6805f0\n",
      "loss(trainingArray, targetArray) = 939.87866f0\n",
      "loss(trainingArray, targetArray) = 939.1219f0\n",
      "loss(trainingArray, targetArray) = 938.386f0\n",
      "loss(trainingArray, targetArray) = 937.6698f0\n",
      "loss(trainingArray, targetArray) = 936.9632f0\n",
      "loss(trainingArray, targetArray) = 936.4945f0\n",
      "loss(trainingArray, targetArray) = 935.83356f0\n",
      "Training R2: 0.9129686695626691\n",
      "Validation R2: 0.9414333025566168\n",
      "loss(trainingArray, targetArray) = 935.5135f0\n",
      "loss(trainingArray, targetArray) = 934.91705f0\n",
      "loss(trainingArray, targetArray) = 934.31165f0\n",
      "loss(trainingArray, targetArray) = 933.74084f0\n",
      "loss(trainingArray, targetArray) = 933.1916f0\n",
      "loss(trainingArray, targetArray) = 932.66425f0\n",
      "loss(trainingArray, targetArray) = 932.1283f0\n",
      "loss(trainingArray, targetArray) = 931.59784f0\n",
      "loss(trainingArray, targetArray) = 931.10345f0\n",
      "loss(trainingArray, targetArray) = 930.59155f0\n",
      "loss(trainingArray, targetArray) = 930.2319f0\n",
      "loss(trainingArray, targetArray) = 929.75995f0\n",
      "loss(trainingArray, targetArray) = 929.30396f0\n",
      "loss(trainingArray, targetArray) = 928.8353f0\n",
      "loss(trainingArray, targetArray) = 928.3765f0\n",
      "loss(trainingArray, targetArray) = 927.9368f0\n",
      "loss(trainingArray, targetArray) = 927.4921f0\n",
      "loss(trainingArray, targetArray) = 927.06573f0\n",
      "loss(trainingArray, targetArray) = 926.7576f0\n",
      "loss(trainingArray, targetArray) = 926.3711f0\n",
      "loss(trainingArray, targetArray) = 926.02814f0\n",
      "loss(trainingArray, targetArray) = 925.74176f0\n",
      "loss(trainingArray, targetArray) = 925.30536f0\n",
      "loss(trainingArray, targetArray) = 924.9185f0\n",
      "loss(trainingArray, targetArray) = 924.5298f0\n",
      "loss(trainingArray, targetArray) = 924.23724f0\n",
      "loss(trainingArray, targetArray) = 923.8484f0\n",
      "Training R2: 0.9127392182346702\n",
      "Validation R2: 0.9422949509143594\n",
      "loss(trainingArray, targetArray) = 923.75214f0\n",
      "loss(trainingArray, targetArray) = 923.3979f0\n",
      "loss(trainingArray, targetArray) = 923.00854f0\n",
      "loss(trainingArray, targetArray) = 922.6566f0\n",
      "loss(trainingArray, targetArray) = 922.3892f0\n",
      "loss(trainingArray, targetArray) = 922.1012f0\n",
      "loss(trainingArray, targetArray) = 921.7601f0\n",
      "loss(trainingArray, targetArray) = 921.4909f0\n",
      "loss(trainingArray, targetArray) = 921.12756f0\n",
      "loss(trainingArray, targetArray) = 920.796f0\n",
      "loss(trainingArray, targetArray) = 920.562f0\n",
      "loss(trainingArray, targetArray) = 920.29614f0\n",
      "loss(trainingArray, targetArray) = 920.0644f0\n",
      "loss(trainingArray, targetArray) = 919.86456f0\n",
      "loss(trainingArray, targetArray) = 919.5743f0\n",
      "loss(trainingArray, targetArray) = 919.29987f0\n",
      "loss(trainingArray, targetArray) = 919.01135f0\n",
      "loss(trainingArray, targetArray) = 918.7449f0\n",
      "loss(trainingArray, targetArray) = 918.44226f0\n",
      "loss(trainingArray, targetArray) = 918.1964f0\n",
      "loss(trainingArray, targetArray) = 917.89307f0\n",
      "loss(trainingArray, targetArray) = 917.692f0\n",
      "loss(trainingArray, targetArray) = 917.4461f0\n",
      "loss(trainingArray, targetArray) = 917.2306f0\n",
      "loss(trainingArray, targetArray) = 916.91547f0\n",
      "loss(trainingArray, targetArray) = 916.641f0\n",
      "loss(trainingArray, targetArray) = 916.4201f0\n",
      "loss(trainingArray, targetArray) = 916.1423f0\n",
      "loss(trainingArray, targetArray) = 915.83307f0\n",
      "Training R2: 0.9124352556154289\n",
      "Validation R2: 0.941749154614939\n",
      "loss(trainingArray, targetArray) = 915.6784f0\n",
      "loss(trainingArray, targetArray) = 915.3416f0\n",
      "loss(trainingArray, targetArray) = 915.10956f0\n",
      "loss(trainingArray, targetArray) = 914.81146f0\n",
      "loss(trainingArray, targetArray) = 914.49664f0\n",
      "loss(trainingArray, targetArray) = 914.27905f0\n",
      "loss(trainingArray, targetArray) = 913.953f0\n",
      "loss(trainingArray, targetArray) = 913.6847f0\n",
      "loss(trainingArray, targetArray) = 913.3976f0\n",
      "loss(trainingArray, targetArray) = 913.1429f0\n",
      "loss(trainingArray, targetArray) = 912.8738f0\n",
      "loss(trainingArray, targetArray) = 912.6072f0\n",
      "loss(trainingArray, targetArray) = 912.3626f0\n",
      "loss(trainingArray, targetArray) = 912.10406f0\n",
      "loss(trainingArray, targetArray) = 911.85266f0\n",
      "loss(trainingArray, targetArray) = 911.68256f0\n",
      "loss(trainingArray, targetArray) = 911.47504f0\n",
      "loss(trainingArray, targetArray) = 911.2916f0\n",
      "loss(trainingArray, targetArray) = 911.0395f0\n",
      "loss(trainingArray, targetArray) = 910.814f0\n",
      "loss(trainingArray, targetArray) = 910.5984f0\n",
      "loss(trainingArray, targetArray) = 910.4112f0\n",
      "loss(trainingArray, targetArray) = 910.2143f0\n",
      "loss(trainingArray, targetArray) = 910.0259f0\n",
      "loss(trainingArray, targetArray) = 909.8603f0\n",
      "loss(trainingArray, targetArray) = 909.5773f0\n",
      "loss(trainingArray, targetArray) = 909.38214f0\n",
      "loss(trainingArray, targetArray) = 909.2194f0\n",
      "Training R2: 0.9131416700260304\n",
      "Validation R2: 0.9426215506090422\n",
      "loss(trainingArray, targetArray) = 909.10785f0\n",
      "loss(trainingArray, targetArray) = 908.9103f0\n",
      "loss(trainingArray, targetArray) = 908.7399f0\n",
      "loss(trainingArray, targetArray) = 908.5772f0\n",
      "loss(trainingArray, targetArray) = 908.4f0\n",
      "loss(trainingArray, targetArray) = 908.2097f0\n",
      "loss(trainingArray, targetArray) = 908.0012f0\n",
      "loss(trainingArray, targetArray) = 907.8408f0\n",
      "loss(trainingArray, targetArray) = 907.63556f0\n",
      "loss(trainingArray, targetArray) = 907.4357f0\n",
      "loss(trainingArray, targetArray) = 907.1684f0\n",
      "loss(trainingArray, targetArray) = 906.96576f0\n",
      "loss(trainingArray, targetArray) = 906.75586f0\n",
      "loss(trainingArray, targetArray) = 906.5243f0\n",
      "loss(trainingArray, targetArray) = 906.2939f0\n",
      "loss(trainingArray, targetArray) = 906.10706f0\n",
      "loss(trainingArray, targetArray) = 905.93933f0\n",
      "loss(trainingArray, targetArray) = 905.76294f0\n",
      "loss(trainingArray, targetArray) = 905.5829f0\n",
      "loss(trainingArray, targetArray) = 905.4179f0\n",
      "loss(trainingArray, targetArray) = 905.2263f0\n",
      "loss(trainingArray, targetArray) = 905.0411f0\n",
      "loss(trainingArray, targetArray) = 904.8845f0\n",
      "loss(trainingArray, targetArray) = 904.7504f0\n",
      "loss(trainingArray, targetArray) = 904.56616f0\n",
      "loss(trainingArray, targetArray) = 904.3624f0\n",
      "loss(trainingArray, targetArray) = 904.14215f0\n",
      "loss(trainingArray, targetArray) = 903.9472f0\n",
      "loss(trainingArray, targetArray) = 903.7313f0\n",
      "loss(trainingArray, targetArray) = 903.4448f0\n",
      "Training R2: 0.9171195141968185\n",
      "Validation R2: 0.9423349187776555\n",
      "loss(trainingArray, targetArray) = 903.4271f0\n",
      "loss(trainingArray, targetArray) = 903.09436f0\n",
      "loss(trainingArray, targetArray) = 902.86615f0\n",
      "loss(trainingArray, targetArray) = 902.7764f0\n",
      "loss(trainingArray, targetArray) = 902.5458f0\n",
      "loss(trainingArray, targetArray) = 902.3697f0\n",
      "loss(trainingArray, targetArray) = 902.23236f0\n",
      "loss(trainingArray, targetArray) = 902.0575f0\n",
      "loss(trainingArray, targetArray) = 901.9041f0\n",
      "loss(trainingArray, targetArray) = 901.7177f0\n",
      "loss(trainingArray, targetArray) = 901.56744f0\n",
      "loss(trainingArray, targetArray) = 901.40173f0\n",
      "loss(trainingArray, targetArray) = 901.25995f0\n",
      "loss(trainingArray, targetArray) = 901.07587f0\n",
      "loss(trainingArray, targetArray) = 901.1356f0\n",
      "loss(trainingArray, targetArray) = 900.75604f0\n",
      "loss(trainingArray, targetArray) = 900.6838f0\n",
      "loss(trainingArray, targetArray) = 900.4704f0\n",
      "loss(trainingArray, targetArray) = 900.3284f0\n",
      "loss(trainingArray, targetArray) = 900.136f0\n",
      "loss(trainingArray, targetArray) = 899.9954f0\n",
      "loss(trainingArray, targetArray) = 899.8778f0\n",
      "loss(trainingArray, targetArray) = 899.7232f0\n",
      "loss(trainingArray, targetArray) = 899.56384f0\n",
      "loss(trainingArray, targetArray) = 899.5311f0\n",
      "loss(trainingArray, targetArray) = 899.382f0\n",
      "loss(trainingArray, targetArray) = 899.12354f0\n",
      "loss(trainingArray, targetArray) = 899.04395f0\n",
      "loss(trainingArray, targetArray) = 898.7553f0\n",
      "loss(trainingArray, targetArray) = 898.7267f0\n",
      "loss(trainingArray, targetArray) = 898.452f0\n",
      "loss(trainingArray, targetArray) = 898.4955f0\n",
      "loss(trainingArray, targetArray) = 898.36334f0\n",
      "Training R2: 0.9159543976423663\n",
      "Validation R2: 0.942695682362423\n",
      "loss(trainingArray, targetArray) = 898.0244f0\n",
      "loss(trainingArray, targetArray) = 897.9086f0\n",
      "loss(trainingArray, targetArray) = 897.82764f0\n",
      "loss(trainingArray, targetArray) = 897.64185f0\n",
      "loss(trainingArray, targetArray) = 897.4023f0\n",
      "loss(trainingArray, targetArray) = 897.336f0\n",
      "loss(trainingArray, targetArray) = 897.1497f0\n",
      "loss(trainingArray, targetArray) = 896.97314f0\n",
      "loss(trainingArray, targetArray) = 896.912f0\n",
      "loss(trainingArray, targetArray) = 896.7017f0\n",
      "loss(trainingArray, targetArray) = 896.4904f0\n",
      "loss(trainingArray, targetArray) = 896.41595f0\n",
      "loss(trainingArray, targetArray) = 896.1955f0\n",
      "loss(trainingArray, targetArray) = 896.23065f0\n",
      "loss(trainingArray, targetArray) = 896.3142f0\n",
      "loss(trainingArray, targetArray) = 896.02655f0\n",
      "loss(trainingArray, targetArray) = 895.6801f0\n",
      "loss(trainingArray, targetArray) = 895.5442f0\n",
      "loss(trainingArray, targetArray) = 895.33984f0\n",
      "loss(trainingArray, targetArray) = 895.26904f0\n",
      "loss(trainingArray, targetArray) = 895.10535f0\n",
      "loss(trainingArray, targetArray) = 895.15344f0\n",
      "loss(trainingArray, targetArray) = 895.00024f0\n",
      "loss(trainingArray, targetArray) = 894.5927f0\n",
      "loss(trainingArray, targetArray) = 894.68066f0\n",
      "loss(trainingArray, targetArray) = 895.0524f0\n",
      "loss(trainingArray, targetArray) = 894.50446f0\n",
      "loss(trainingArray, targetArray) = 894.0973f0\n",
      "loss(trainingArray, targetArray) = 893.87054f0\n",
      "loss(trainingArray, targetArray) = 893.7966f0\n",
      "loss(trainingArray, targetArray) = 893.8592f0\n",
      "loss(trainingArray, targetArray) = 893.719f0\n",
      "loss(trainingArray, targetArray) = 893.73065f0\n",
      "loss(trainingArray, targetArray) = 893.4749f0\n",
      "Training R2: 0.9178476535989064\n",
      "Validation R2: 0.9424338991213354\n",
      "loss(trainingArray, targetArray) = 893.296f0\n",
      "loss(trainingArray, targetArray) = 893.0513f0\n",
      "loss(trainingArray, targetArray) = 893.6799f0\n",
      "loss(trainingArray, targetArray) = 894.01855f0\n",
      "loss(trainingArray, targetArray) = 893.2617f0\n",
      "loss(trainingArray, targetArray) = 892.57654f0\n",
      "loss(trainingArray, targetArray) = 892.5296f0\n",
      "loss(trainingArray, targetArray) = 892.7932f0\n",
      "loss(trainingArray, targetArray) = 893.19775f0\n",
      "loss(trainingArray, targetArray) = 893.19385f0\n",
      "loss(trainingArray, targetArray) = 892.50867f0\n",
      "loss(trainingArray, targetArray) = 891.7212f0\n",
      "loss(trainingArray, targetArray) = 891.52f0\n",
      "loss(trainingArray, targetArray) = 891.4584f0\n",
      "loss(trainingArray, targetArray) = 891.4616f0\n",
      "loss(trainingArray, targetArray) = 891.3088f0\n",
      "loss(trainingArray, targetArray) = 891.05884f0\n",
      "loss(trainingArray, targetArray) = 891.52527f0\n",
      "loss(trainingArray, targetArray) = 892.27185f0\n",
      "loss(trainingArray, targetArray) = 892.6185f0\n",
      "loss(trainingArray, targetArray) = 892.4672f0\n",
      "loss(trainingArray, targetArray) = 892.24396f0\n",
      "loss(trainingArray, targetArray) = 891.95624f0\n",
      "loss(trainingArray, targetArray) = 890.39453f0\n",
      "loss(trainingArray, targetArray) = 890.0082f0\n",
      "loss(trainingArray, targetArray) = 889.94354f0\n",
      "loss(trainingArray, targetArray) = 890.0055f0\n",
      "loss(trainingArray, targetArray) = 889.7136f0\n",
      "loss(trainingArray, targetArray) = 889.5893f0\n",
      "loss(trainingArray, targetArray) = 890.179f0\n",
      "loss(trainingArray, targetArray) = 891.0284f0\n",
      "loss(trainingArray, targetArray) = 891.39105f0\n",
      "loss(trainingArray, targetArray) = 890.0972f0\n",
      "loss(trainingArray, targetArray) = 889.0412f0\n",
      "Training R2: 0.9186132287332724\n",
      "Validation R2: 0.9420578063635882\n"
     ]
    }
   ],
   "source": [
    "for i = 1:10\n",
    "    Flux.train!(loss, params(m), dataset, opt, cb = throttle(evalcb, 2))\n",
    "    CurrentR2 = r2(lm(@formula(A  ~ B), DataFrame(A=Float64.(m(trainingArray)[:,1]), B=targetArray[:,1])))\n",
    "    print(\"Training R2: \", CurrentR2, '\\n')\n",
    "    CurrentVR2 = r2(lm(@formula(A  ~ B), DataFrame(A=Float64.(m(validationArray)[:,1]), B=validationTargetArray[:,1])))\n",
    "    print(\"Validation R2: \", CurrentVR2, '\\n')\n",
    "    #plotResults(m)\n",
    "end"
   ]
  },
  {
   "cell_type": "code",
   "execution_count": 102,
   "id": "3824226f-fc9e-425a-bb46-ca6ead4322f0",
   "metadata": {},
   "outputs": [
    {
     "data": {
      "text/plain": [
       "writeOutput (generic function with 1 method)"
      ]
     },
     "execution_count": 102,
     "metadata": {},
     "output_type": "execute_result"
    }
   ],
   "source": [
    "function writeOutput(m)\n",
    "    readPath = \"/home/jupyter-rubin/dosimeter/gate_data/bars/\"\n",
    "    readArray = filter(x->occursin(string(\"A000\"), x), readdir(readPath))\n",
    "    readSize = size(readArray)[1]\n",
    "        \n",
    "    path = \"/home/jupyter-rubin/dosimeter/neural_nets/JuliaOutputs/RubinRuns\"\n",
    "    runNumber = lpad(size(readdir(path))[1], 3, \"0\")\n",
    "    path = string(path, \"/Run\", runNumber, \"R2-\", lpad(Int(round(CurrentVR2, digits=3)*1000),3,\"0\"))\n",
    "    mkdir(path)\n",
    "    mkdir(string(path, \"/fullSimulationOutputs\"))\n",
    "    mkdir(string(path, \"/fullOhioOutputs\"))\n",
    "    for i = 1:size(validationTargetArray)[2]\n",
    "        beamSize = filter(x->occursin(string(\"A000\"), x), readdir(readPath))[div(100-1, div(size(validationTargetArray)[2],readSize))+1][1:8]\n",
    "\n",
    "        writedlm(string(path,\"/fullSimulationOutputs/ValidationTarget\",lpad(i,3,\"0\"), \"-\", beamSize, \".txt\"), reshape(validationTargetArray[:,i], (8*8,8)), \" \")\n",
    "        writedlm(string(path,\"/fullSimulationOutputs/ValidationOutput\",lpad(i,3,\"0\"), \"-\", beamSize, \".txt\"), Int.(round.(reshape(m(validationArray)[:,i], (8*8,8)))), \" \")\n",
    "    end\n",
    "\n",
    "\n",
    "    readPath = \"/home/jupyter-rubin/dosimeter/gate_data/bars/\"\n",
    "    readArray = filter(x->occursin(string(\"A000\"), x), readdir(readPath))\n",
    "    for i = 1:size(inputArray)[4]\n",
    "        writedlm(string(path,\"/fullOhioOutputs/OhioOutput\",lpad(i,3,\"0\"),\".txt\"), Int.(round.(reshape(m(inputArray)[:,i], (8*8,8)))), \" \")\n",
    "    end\n",
    "end"
   ]
  },
  {
   "cell_type": "code",
   "execution_count": 124,
   "id": "0f0b5a92-1db9-4356-9d67-2135070a3e63",
   "metadata": {},
   "outputs": [],
   "source": [
    "writeOutput(m)"
   ]
  },
  {
   "cell_type": "code",
   "execution_count": null,
   "id": "e7bd4566-8ff1-4a94-8a02-3bda31485795",
   "metadata": {},
   "outputs": [],
   "source": []
  },
  {
   "cell_type": "code",
   "execution_count": null,
   "id": "e94afaf8-1365-45dc-a2dc-847009dfbb87",
   "metadata": {},
   "outputs": [],
   "source": []
  }
 ],
 "metadata": {
  "kernelspec": {
   "display_name": "Julia 1.6.1",
   "language": "julia",
   "name": "julia-1.6"
  },
  "language_info": {
   "file_extension": ".jl",
   "mimetype": "application/julia",
   "name": "julia",
   "version": "1.6.1"
  }
 },
 "nbformat": 4,
 "nbformat_minor": 5
}
