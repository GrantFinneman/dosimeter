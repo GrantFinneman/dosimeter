{
 "cells": [
  {
   "cell_type": "code",
   "execution_count": 1,
   "id": "887d27c4-9f3d-4ace-874a-56c2276bb894",
   "metadata": {},
   "outputs": [],
   "source": [
    "import os\n",
    "import matplotlib.pyplot as plt\n",
    "from glob import glob\n",
    "import numpy as np\n",
    "import pandas as pd\n",
    "from sklearn.metrics import mean_squared_error"
   ]
  },
  {
   "cell_type": "markdown",
   "id": "5bdc88cc-3177-4acb-8111-3ee47b50c43c",
   "metadata": {},
   "source": [
    "## Stylesheet for consistency"
   ]
  },
  {
   "cell_type": "code",
   "execution_count": 2,
   "id": "11dd3a9c-c1dc-41f1-af1c-7abdcb622b01",
   "metadata": {},
   "outputs": [],
   "source": [
    "plt.style.use('../../supplimentary_material/plotting_style_sheet.txt')"
   ]
  },
  {
   "cell_type": "markdown",
   "id": "60e28bc5-af79-449c-beb9-6b0ecf4ecfdf",
   "metadata": {},
   "source": [
    "## Generates lists of data files"
   ]
  },
  {
   "cell_type": "code",
   "execution_count": 3,
   "id": "872c9228-44e7-448d-a218-5d34f1a85feb",
   "metadata": {},
   "outputs": [],
   "source": [
    "scintx_mu = sorted(glob('Grant_Data/scintX_MACs/*'))\n",
    "water_mu = sorted(glob('Grant_Data/water_MACs/*'))"
   ]
  },
  {
   "cell_type": "code",
   "execution_count": 4,
   "id": "555ec1db-b769-47ad-ba9c-63f50a19f1b0",
   "metadata": {},
   "outputs": [],
   "source": [
    "Xenergies = list()\n",
    "Xattenuations = list()\n",
    "\n",
    "for file in scintx_mu:\n",
    "    energy = os.path.basename(file).rstrip('.txt').split('_')[0]\n",
    "    Xenergies.append(float(energy))\n",
    "    μ = np.loadtxt(file)\n",
    "    Xattenuations.append(μ)\n",
    "    \n",
    "Wenergies = list()\n",
    "Wattenuations = list()\n",
    "\n",
    "for file in water_mu:\n",
    "    energy = os.path.basename(file).rstrip('.txt').split('_')[0]\n",
    "    Wenergies.append(float(energy))\n",
    "    μ = np.loadtxt(file)\n",
    "    Wattenuations.append(μ)"
   ]
  },
  {
   "cell_type": "code",
   "execution_count": 5,
   "id": "86f8ecad-92e9-4537-8af3-868895d86aaa",
   "metadata": {},
   "outputs": [
    {
     "data": {
      "text/html": [
       "<div>\n",
       "<style scoped>\n",
       "    .dataframe tbody tr th:only-of-type {\n",
       "        vertical-align: middle;\n",
       "    }\n",
       "\n",
       "    .dataframe tbody tr th {\n",
       "        vertical-align: top;\n",
       "    }\n",
       "\n",
       "    .dataframe thead th {\n",
       "        text-align: right;\n",
       "    }\n",
       "</style>\n",
       "<table border=\"1\" class=\"dataframe\">\n",
       "  <thead>\n",
       "    <tr style=\"text-align: right;\">\n",
       "      <th></th>\n",
       "      <th>Energy</th>\n",
       "      <th>u/p</th>\n",
       "      <th>uen/p</th>\n",
       "    </tr>\n",
       "  </thead>\n",
       "  <tbody>\n",
       "    <tr>\n",
       "      <th>0</th>\n",
       "      <td>0.001</td>\n",
       "      <td>4078.00</td>\n",
       "      <td>4065.00</td>\n",
       "    </tr>\n",
       "    <tr>\n",
       "      <th>1</th>\n",
       "      <td>0.002</td>\n",
       "      <td>617.30</td>\n",
       "      <td>615.20</td>\n",
       "    </tr>\n",
       "    <tr>\n",
       "      <th>2</th>\n",
       "      <td>0.003</td>\n",
       "      <td>192.90</td>\n",
       "      <td>191.70</td>\n",
       "    </tr>\n",
       "    <tr>\n",
       "      <th>3</th>\n",
       "      <td>0.004</td>\n",
       "      <td>82.78</td>\n",
       "      <td>81.91</td>\n",
       "    </tr>\n",
       "    <tr>\n",
       "      <th>4</th>\n",
       "      <td>0.005</td>\n",
       "      <td>42.58</td>\n",
       "      <td>41.88</td>\n",
       "    </tr>\n",
       "  </tbody>\n",
       "</table>\n",
       "</div>"
      ],
      "text/plain": [
       "   Energy      u/p    uen/p\n",
       "0   0.001  4078.00  4065.00\n",
       "1   0.002   617.30   615.20\n",
       "2   0.003   192.90   191.70\n",
       "3   0.004    82.78    81.91\n",
       "4   0.005    42.58    41.88"
      ]
     },
     "execution_count": 5,
     "metadata": {},
     "output_type": "execute_result"
    }
   ],
   "source": [
    "df = pd.read_csv('Grant_Data_updated/nist_water_MACs/nist_water.txt', delim_whitespace=True)\n",
    "df.head()"
   ]
  },
  {
   "cell_type": "code",
   "execution_count": 6,
   "id": "07055231-a6ef-42a8-9e66-77a2796e1cf3",
   "metadata": {},
   "outputs": [
    {
     "data": {
      "image/png": "[encoded data removed]",
      "text/plain": [
       "<Figure size 432x288 with 1 Axes>"
      ]
     },
     "metadata": {},
     "output_type": "display_data"
    }
   ],
   "source": [
    "fig = plt.figure(facecolor='white')\n",
    "\n",
    "plt.loglog(Xenergies, Xattenuations, ls='solid', label='ScintX')\n",
    "plt.loglog(Wenergies, Wattenuations, ls='dashed', label='Water')\n",
    "#plt.loglog(df['Energy'], df['u/p'])\n",
    "#           #marker='o',\n",
    "#           mfc='black',\n",
    "#           linestyle='dotted',\n",
    "#           #ms=3.5,\n",
    "#           label='NIST Water')\n",
    "plt.legend()\n",
    "plt.ylabel(r'Mass Attenuation $\\frac{cm^2}{g}$')\n",
    "plt.xlabel('Energy (MeV)')\n",
    "#plt.title('Mass Attenuation values')\n",
    "plt.show()\n",
    "\n",
    "fig.savefig('../../figures/mass_attenuation/mass_attenuation.pdf')"
   ]
  },
  {
   "cell_type": "markdown",
   "id": "fc70b1d5-76ce-4685-8228-2fd797dceb7a",
   "metadata": {},
   "source": [
    "# Determines mean squared error between water and ScintX and NIST"
   ]
  },
  {
   "cell_type": "markdown",
   "id": "b761ddc1-1eab-41ec-83e5-83d321a841a3",
   "metadata": {},
   "source": [
    "The simulations of our mass attenuation were performed at the same energies (x values). This allows us to compare the y values without having to do a curve fit to interpolate missing values."
   ]
  },
  {
   "cell_type": "code",
   "execution_count": 7,
   "id": "249fc7a5-f032-4c73-b158-59d01e700e25",
   "metadata": {},
   "outputs": [
    {
     "data": {
      "text/plain": [
       "81228.53007593485"
      ]
     },
     "execution_count": 7,
     "metadata": {},
     "output_type": "execute_result"
    }
   ],
   "source": [
    "mean_squared_error(y_true=df['u/p'], y_pred=Xattenuations)"
   ]
  },
  {
   "cell_type": "code",
   "execution_count": 8,
   "id": "2317e46a-3da8-4db6-b52f-4d4e20295eb9",
   "metadata": {},
   "outputs": [
    {
     "data": {
      "text/plain": [
       "80842.86622202607"
      ]
     },
     "execution_count": 8,
     "metadata": {},
     "output_type": "execute_result"
    }
   ],
   "source": [
    "mean_squared_error(y_true=Wattenuations, y_pred=Xattenuations)"
   ]
  },
  {
   "cell_type": "code",
   "execution_count": 9,
   "id": "2e677ce6-f663-43e8-b01e-41636e6c42e1",
   "metadata": {},
   "outputs": [
    {
     "name": "stdout",
     "output_type": "stream",
     "text": [
      "water error compared to NIST 0.617\n"
     ]
    }
   ],
   "source": [
    "nist_to_water = mean_squared_error(y_true=df['u/p'], y_pred=Wattenuations)\n",
    "print(f'water error compared to NIST {nist_to_water:.3f}')"
   ]
  },
  {
   "cell_type": "markdown",
   "id": "6d37aaff-da0a-4a0f-89e7-4ac6f723902b",
   "metadata": {},
   "source": [
    "## Code used to rename files to make them more usable"
   ]
  },
  {
   "cell_type": "markdown",
   "id": "b0d4a39d-9901-4e4b-876c-c942deb315d5",
   "metadata": {},
   "source": [
    "```python\n",
    "for file in files:\n",
    "    _, energy = file.rstrip('.txt').split('_')\n",
    "    pad_energy = f'{float(energy):.3f}'.zfill(6) + '.txt'\n",
    "    os.rename(file, pad_energy)\n",
    "```"
   ]
  },
  {
   "cell_type": "code",
   "execution_count": null,
   "id": "c69b0b18-2f2a-4663-b9d3-3dd06ad90883",
   "metadata": {},
   "outputs": [],
   "source": []
  }
 ],
 "metadata": {
  "kernelspec": {
   "display_name": "Python [conda env:.conda-james]",
   "language": "python",
   "name": "conda-env-.conda-james-py"
  },
  "language_info": {
   "codemirror_mode": {
    "name": "ipython",
    "version": 3
   },
   "file_extension": ".py",
   "mimetype": "text/x-python",
   "name": "python",
   "nbconvert_exporter": "python",
   "pygments_lexer": "ipython3",
   "version": "3.7.3"
  }
 },
 "nbformat": 4,
 "nbformat_minor": 5
}
