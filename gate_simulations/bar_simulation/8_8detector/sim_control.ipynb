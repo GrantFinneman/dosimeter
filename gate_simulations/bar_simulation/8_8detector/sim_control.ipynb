{
 "cells": [
  {
   "cell_type": "markdown",
   "metadata": {},
   "source": [
    "# Simulation Control Notebook"
   ]
  },
  {
   "cell_type": "markdown",
   "metadata": {},
   "source": [
    "This notebook will handle all of the scripting that would typically be done in bash but I decided to try in python to keep in with the primary theme\n",
    "This should also help a TON with the math and such since bash doesn't do decimal arithmetic by itself."
   ]
  },
  {
   "cell_type": "markdown",
   "metadata": {},
   "source": [
    "## Bar Dimensions\n",
    "\n",
    "|X mm|Y mm|Z mm|\n",
    "|---|---|---|\n",
    "|4.8|80|10|"
   ]
  },
  {
   "cell_type": "code",
   "execution_count": 1,
   "metadata": {},
   "outputs": [],
   "source": [
    "import numpy as np, os\n",
    "from subprocess import call"
   ]
  },
  {
   "cell_type": "code",
   "execution_count": 2,
   "metadata": {},
   "outputs": [
    {
     "name": "stdout",
     "output_type": "stream",
     "text": [
      "/home/gmf/Projects/dosimeter/gate_simulations/bar_simulation/8_8detector\n"
     ]
    }
   ],
   "source": [
    "print(os.getcwd())"
   ]
  },
  {
   "cell_type": "code",
   "execution_count": 3,
   "metadata": {},
   "outputs": [],
   "source": [
    "#subprocess.call('Gate mac/run.mac --qt', shell=True)"
   ]
  },
  {
   "cell_type": "code",
   "execution_count": 4,
   "metadata": {},
   "outputs": [],
   "source": [
    "#subprocess.call(f'sed -i \"s:/gate/source/mybeam/gps/pos/halfx.*:/gate/source/mybeam/gps/pos/halfx {91} mm:\" practiceing_sed.txt', shell=True)"
   ]
  },
  {
   "cell_type": "code",
   "execution_count": 5,
   "metadata": {},
   "outputs": [
    {
     "name": "stdout",
     "output_type": "stream",
     "text": [
      "5\n",
      "10\n",
      "15\n",
      "20\n",
      "25\n",
      "30\n",
      "35\n",
      "40\n",
      "45\n",
      "50\n",
      "55\n",
      "60\n",
      "65\n",
      "70\n",
      "75\n",
      "80\n",
      "85\n"
     ]
    }
   ],
   "source": [
    "for width in range(5, 89, 5):\n",
    "    call(f'sed -i \"s:/gate/source/mybeam/gps/pos/halfx.*:/gate/source/mybeam/gps/pos/halfx {width/2:.2f} mm:\" mac/run.mac', shell=True)\n",
    "    call(f'sed -i \"s:/gate/output/ascii/setFileName output/.*:/gate/output/ascii/setFileName output/w_{width/2:.2f}:\" mac/run.mac', shell=True)\n",
    "    call('Gate mac/run.mac', shell=True)\n",
    "    print(width)"
   ]
  }
 ],
 "metadata": {
  "kernelspec": {
   "display_name": "Python [conda env:dosimeter]",
   "language": "python",
   "name": "conda-env-dosimeter-py"
  },
  "language_info": {
   "codemirror_mode": {
    "name": "ipython",
    "version": 3
   },
   "file_extension": ".py",
   "mimetype": "text/x-python",
   "name": "python",
   "nbconvert_exporter": "python",
   "pygments_lexer": "ipython3",
   "version": "3.8.5"
  }
 },
 "nbformat": 4,
 "nbformat_minor": 4
}
