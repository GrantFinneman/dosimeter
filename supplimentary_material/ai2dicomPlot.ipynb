{
 "cells": [
  {
   "cell_type": "code",
   "execution_count": 52,
   "id": "ddb1c082-7bc3-4f01-8160-4f0526ea661c",
   "metadata": {},
   "outputs": [],
   "source": [
    "import matplotlib.pyplot as plt\n",
    "from mpl_toolkits.mplot3d import Axes3D\n",
    "from matplotlib import cm\n",
    "from matplotlib.colors import Normalize\n",
    "import numpy as np, os, pandas as pd\n",
    "from glob import glob\n",
    "import os\n",
    "import scipy\n",
    "import numpy as np\n",
    "import plotly.graph_objects as go"
   ]
  },
  {
   "cell_type": "code",
   "execution_count": 65,
   "id": "2c5cb1bd-08cc-4026-aea5-a72280625358",
   "metadata": {},
   "outputs": [],
   "source": [
    "plt.style.use('plotting_style_sheet.txt')"
   ]
  },
  {
   "cell_type": "code",
   "execution_count": 79,
   "id": "3ad441ad-6dd6-43a8-8529-01c344b9c836",
   "metadata": {},
   "outputs": [],
   "source": [
    "files = sorted(glob(\"./../neural_nets/JuliaOutputs/OptimizedRuns/Run001R2-980/fullSimulationOutputs/*\"))"
   ]
  },
  {
   "cell_type": "code",
   "execution_count": 80,
   "id": "e0130101-86b7-49d2-89bd-550871fa711a",
   "metadata": {},
   "outputs": [],
   "source": [
    "for file in files:\n",
    "    data = np.loadtxt(file)\n",
    "    data = data.reshape((8,8,8))\n",
    "    data = data.sum(0).sum(1)\n",
    "    xaxis = np.arange(1, 9, 1)*4.8\n",
    "    fig = plt.figure()\n",
    "    plt.xlabel('Depth in millimeters (mm)')\n",
    "    plt.ylabel('Energy Deposition (MeV)')\n",
    "    plt.plot(xaxis,data)\n",
    "    name = os.path.basename(file).rstrip('.txt')\n",
    "    plt.title(name)\n",
    "    fig.savefig('./../figures/nn2DicomComp/NathanOpt001/' + name + '_Run001_plot.png')\n",
    "    plt.close(fig)"
   ]
  },
  {
   "cell_type": "code",
   "execution_count": 81,
   "id": "eabf17f9-5dad-4bef-a9fa-2c6b3033298c",
   "metadata": {},
   "outputs": [],
   "source": [
    "files2 = sorted(glob(\"./../neural_nets/JuliaOutputs/OptimizedRuns/Run000R2-980/fullSimulationOutputs/*\"))"
   ]
  },
  {
   "cell_type": "code",
   "execution_count": 82,
   "id": "57dc9a94-6207-40b5-badb-ee144afc8f1c",
   "metadata": {},
   "outputs": [],
   "source": [
    "for file in files2:\n",
    "    data = np.loadtxt(file)\n",
    "    data = data.reshape((8,8,8))\n",
    "    data = data.sum(0).sum(1)\n",
    "    xaxis = np.arange(1, 9, 1)*4.8\n",
    "    fig = plt.figure()\n",
    "    plt.xlabel('Depth in millimeters (mm)')\n",
    "    plt.ylabel('Energy Deposition (MeV)')\n",
    "    plt.plot(xaxis,data)\n",
    "    name = os.path.basename(file).rstrip('.txt')\n",
    "    plt.title(name)\n",
    "    fig.savefig('./../figures/nn2DicomComp/NathanOpt000/' + name + '_Run000_plot.png')\n",
    "    plt.close(fig)"
   ]
  },
  {
   "cell_type": "code",
   "execution_count": 83,
   "id": "d8b51fca-4cdb-4a82-88d2-fbc598068b2c",
   "metadata": {},
   "outputs": [],
   "source": [
    "files3 = sorted(glob(\"./../neural_nets/JuliaOutputs/RubinRuns/Run000R2-944/fullOhioOutputs/*\"))"
   ]
  },
  {
   "cell_type": "code",
   "execution_count": 84,
   "id": "b8c225e5-2ffc-469a-8c98-ecf8662466fb",
   "metadata": {},
   "outputs": [],
   "source": [
    "for file in files3:\n",
    "    data = np.loadtxt(file)\n",
    "    data = data.reshape((8,8,8))\n",
    "    data = data.sum(0).sum(1)\n",
    "    xaxis = np.arange(1, 9, 1)*4.8\n",
    "    fig = plt.figure()\n",
    "    plt.xlabel('Depth in millimeters (mm)')\n",
    "    plt.ylabel('Energy Deposition (MeV)')\n",
    "    plt.plot(xaxis,data)\n",
    "    name = os.path.basename(file).rstrip('.txt')\n",
    "    plt.title(name)\n",
    "    fig.savefig('./../figures/nn2DicomComp/RubinPlots/' + name + '_Run000_plot.png')\n",
    "    plt.close(fig)"
   ]
  },
  {
   "cell_type": "code",
   "execution_count": null,
   "id": "d4df9068-abe9-430c-bdd9-0d39fe22b21a",
   "metadata": {},
   "outputs": [],
   "source": []
  }
 ],
 "metadata": {
  "kernelspec": {
   "display_name": "Python [conda env:.conda-dosimeter]",
   "language": "python",
   "name": "conda-env-.conda-dosimeter-py"
  },
  "language_info": {
   "codemirror_mode": {
    "name": "ipython",
    "version": 3
   },
   "file_extension": ".py",
   "mimetype": "text/x-python",
   "name": "python",
   "nbconvert_exporter": "python",
   "pygments_lexer": "ipython3",
   "version": "3.7.3"
  }
 },
 "nbformat": 4,
 "nbformat_minor": 5
}
