{
 "cells": [
  {
   "cell_type": "markdown",
   "metadata": {},
   "source": [
    "# Plotting the Energy Deposited in the Detector"
   ]
  },
  {
   "cell_type": "markdown",
   "metadata": {},
   "source": [
    "The detector is an 8x8 grid of channels with channel 1 in the top left corner and channel 8 in the top right corner"
   ]
  },
  {
   "cell_type": "code",
   "execution_count": 1,
   "metadata": {},
   "outputs": [],
   "source": [
    "import matplotlib.pyplot as plt\n",
    "from mpl_toolkits.mplot3d import Axes3D\n",
    "from matplotlib import cm\n",
    "from matplotlib.colors import Normalize\n",
    "import numpy as np, os, pandas as pd\n",
    "from my_classes import *\n",
    "%matplotlib widget"
   ]
  },
  {
   "cell_type": "code",
   "execution_count": 2,
   "metadata": {},
   "outputs": [],
   "source": [
    "energy_dict = load_data_ohio()\n",
    "x, y, z = create_3d_cords()"
   ]
  },
  {
   "cell_type": "code",
   "execution_count": 5,
   "metadata": {},
   "outputs": [
    {
     "data": {
      "application/vnd.jupyter.widget-view+json": {
       "model_id": "240975f53ba64a81b6d5d71467acbf3e",
       "version_major": 2,
       "version_minor": 0
      },
      "text/plain": [
       "Canvas(toolbar=Toolbar(toolitems=[('Home', 'Reset original view', 'home', 'home'), ('Back', 'Back to previous …"
      ]
     },
     "metadata": {},
     "output_type": "display_data"
    }
   ],
   "source": [
    "cmap = cm.get_cmap('plasma')\n",
    "data = energy_dict['R01.txt']\n",
    "norm = Normalize(vmin=min(data), vmax=max(data)) # Defines color range for the specific bar chart\n",
    "\n",
    "fig = plt.figure()\n",
    "\n",
    "ax = fig.add_subplot(111, projection='3d')\n",
    "ax.bar3d(*bar_chart_helper(data), color=cmap(norm(data)))\n",
    "fig.show()"
   ]
  },
  {
   "cell_type": "markdown",
   "metadata": {},
   "source": [
    "***"
   ]
  },
  {
   "cell_type": "markdown",
   "metadata": {},
   "source": [
    "## Note\n",
    "\n",
    "- It should be noted the data from rotated files Eg *_r.txt, after the data is extended into 3 dimensions the 'cube' of numbers have to be rotated 90 degrees. This is because normally the detector is represented by the xy plane with the bars extending up into the z-axis, when it is rotated, the detector is on the yz plane with bars extending in the y direction\n",
    "\n",
    "- The rotation is with rotdim( axis=(0, 2))\n",
    "    - 0 is y-axis on the graph\n",
    "    - 2 is the z-axis"
   ]
  },
  {
   "cell_type": "markdown",
   "metadata": {},
   "source": [
    "***"
   ]
  },
  {
   "cell_type": "markdown",
   "metadata": {},
   "source": [
    "## Ohio Data loading snippet of code\n",
    "- Was added into my_classes as `load_data_ohio`\n",
    "\n",
    "```python\n",
    "extracted_dir = 'ohio_data/extracted_data/'\n",
    "files = sorted([os.path.join(extracted_dir, file) for file in os.listdir(extracted_dir) if file.endswith('txt') and '22' not in file])\n",
    "\n",
    "energy_dict = {}\n",
    "for file in files:\n",
    "    df = pd.read_csv(file, delim_whitespace=True)\n",
    "    file_name = os.path.basename(file)\n",
    "    data_array = np.array(df['edep'])\n",
    "    energy_dict[file_name] = data_array\n",
    "```"
   ]
  },
  {
   "cell_type": "markdown",
   "metadata": {},
   "source": [
    "***"
   ]
  },
  {
   "cell_type": "markdown",
   "metadata": {},
   "source": [
    "## Figure of All Ohio Runs\n",
    "\n",
    "```python\n",
    "%matplotlib inline\n",
    "\n",
    "# Gets the colormap plasma\n",
    "cmap = cm.get_cmap('plasma')\n",
    "\n",
    "fig = plt.figure(figsize=(30, 30))\n",
    "for key, index in zip(sorted(energy_dict), range(len(energy_dict))):\n",
    "    data = energy_dict[key]\n",
    "    norm = Normalize(vmin=min(data), vmax=max(data)) # Defines color range for the specific bar chart\n",
    "    ax = fig.add_subplot(7, 7, 1 + index, projection='3d')\n",
    "\n",
    "    ax.bar3d(*bar_chart_helper(data), color=cmap(norm(data))) # Plots the barchart with the colors of each bar defined from the normalization\n",
    "    ax.set_title(key)\n",
    "    ax.set_xlabel('Channel 1s')\n",
    "    ax.set_ylabel('Channel 8s')\n",
    "    ax.set_zticks([])\n",
    "    ax.set_xticks(list(range(1,9)))\n",
    "    ax.set_yticks(list(range(1, 9)))#, labels=list(range(8, 65, 8)))\n",
    "    ax.set_yticklabels(reversed(list(range(8, 65, 8))))\n",
    "    ax.tick_params(axis='both', which='major', labelsize=6)\n",
    "\n",
    "\n",
    "fig.savefig('figures/ohio_data_figures/figure_of_all_ohio_runs.png', dpi=500, facecolor='white')\n",
    "```"
   ]
  },
  {
   "cell_type": "markdown",
   "metadata": {},
   "source": [
    "***"
   ]
  },
  {
   "cell_type": "markdown",
   "metadata": {},
   "source": [
    "## Creating Side-by-side Figures\n",
    "\n",
    "```python\n",
    "%matplotlib inline\n",
    "\n",
    "cmap = cm.get_cmap('plasma')\n",
    "\n",
    "keys = list(energy_dict.keys())\n",
    "\n",
    "for index, (normal, rotated) in enumerate(zip(keys[0::2], keys[1::2])): # I want pairs of dictionary keys so make side-by-side graphs\n",
    "    fig = plt.figure()\n",
    "    fig.suptitle(f'Side by side of run {index}')\n",
    "    \n",
    "    # Non-Rotated\n",
    "    data = energy_dict[normal]\n",
    "    norm = Normalize(vmin=min(data), vmax=max(data)) # Defines the color map for the specific bar chart\n",
    "    ax1 = fig.add_subplot(121, projection='3d')\n",
    "    \n",
    "    ax1.bar3d(*bar_chart_helper(data), color=cmap(norm(data)))\n",
    "    ax1.set_title(normal)\n",
    "    ax1.set_xlabel('Channel 1s')\n",
    "    ax1.set_ylabel('Channel 8s')\n",
    "    ax1.set_zticks([])\n",
    "    ax1.set_zticks([])\n",
    "    ax1.set_xticks(list(range(1,9)))\n",
    "    ax1.set_yticks(list(range(1, 9)))#, labels=list(range(8, 65, 8)))\n",
    "    ax1.set_yticklabels(reversed(list(range(8, 65, 8))))\n",
    "    ax1.tick_params(axis='both', which='major', labelsize=6)\n",
    "\n",
    "    \n",
    "    # Rotated\n",
    "    data = energy_dict[rotated]\n",
    "    norm = Normalize(vmin=min(data), vmax=max(data)) # Defines the color map for the specific bar chart\n",
    "    ax2 = fig.add_subplot(122, projection='3d')\n",
    "    \n",
    "    ax2.bar3d(*bar_chart_helper(data), color=cmap(norm(data)))\n",
    "    ax2.set_title(rotated)\n",
    "    ax2.set_xlabel('Channel 1s')\n",
    "    ax2.set_ylabel('Channel 8s')\n",
    "    ax2.set_zticks([])\n",
    "    ax2.set_zticks([])\n",
    "    ax2.set_xticks(list(range(1,9)))\n",
    "    ax2.set_yticks(list(range(1, 9)))#, labels=list(range(8, 65, 8)))\n",
    "    ax2.set_yticklabels(reversed(list(range(8, 65, 8))))\n",
    "    ax2.tick_params(axis='both', which='major', labelsize=6)\n",
    "\n",
    "    \n",
    "    fig.savefig(f'figures/ohio_data_figures/run_{str(index).zfill(2)}_sidebyside.png', dpi=500, facecolor='white')\n",
    "    plt.close(fig)\n",
    "```"
   ]
  },
  {
   "cell_type": "markdown",
   "metadata": {},
   "source": [
    "***"
   ]
  },
  {
   "cell_type": "markdown",
   "metadata": {},
   "source": [
    "## Verification Code for the Ordering of the Channels\n",
    "\n",
    "```python\n",
    "import matplotlib.pyplot as plt\n",
    "from mpl_toolkits.mplot3d import Axes3D\n",
    "import numpy as np\n",
    "%matplotlib widget\n",
    "\n",
    "channels = np.ones(64)\n",
    "channels[:5] = 5\n",
    "fig = plt.figure()\n",
    "ax = fig.add_subplot(111, projection='3d')\n",
    "ax.bar3d(*bar_chart_helper(channels), shade=True)\n",
    "ax.set_xlabel('Channel 1s')\n",
    "ax.set_ylabel('Channel 8s')\n",
    "fig.show()\n",
    "```"
   ]
  },
  {
   "cell_type": "markdown",
   "metadata": {},
   "source": [
    "***"
   ]
  },
  {
   "cell_type": "markdown",
   "metadata": {},
   "source": [
    "## General 3D Scatter Plot Code\n",
    "\n",
    "- Note:\n",
    "    - If the data being plotted is the rotated data the cube of data must also be rotated\n",
    "    - Here is what I was using:    \n",
    "    - ```python\n",
    "    data = np.rot90(reshape_extend(energy_dict['R03_r.txt']), axes=(0, 2))```\n",
    "\n",
    "```python\n",
    "x, y, z = create_3d_cords()\n",
    "\n",
    "fig = plt.figure()\n",
    "ax = plt.subplot(111, projection='3d')\n",
    "ax.scatter(x, y, z, c=reshape_extend(energy_dict['R03.txt']), s=calculate_sizes(reshape_extend(energy_dict['R03.txt'])))\n",
    "ax.set_xlabel('x axis')\n",
    "ax.set_ylabel('Beam Enters from this side')\n",
    "ax.set_title('R03.txt')\n",
    "#plt.close(fig)\n",
    "```"
   ]
  },
  {
   "cell_type": "code",
   "execution_count": null,
   "metadata": {},
   "outputs": [],
   "source": []
  }
 ],
 "metadata": {
  "kernelspec": {
   "display_name": "Python [conda env:dosimeter]",
   "language": "python",
   "name": "conda-env-dosimeter-py"
  },
  "language_info": {
   "codemirror_mode": {
    "name": "ipython",
    "version": 3
   },
   "file_extension": ".py",
   "mimetype": "text/x-python",
   "name": "python",
   "nbconvert_exporter": "python",
   "pygments_lexer": "ipython3",
   "version": "3.8.5"
  }
 },
 "nbformat": 4,
 "nbformat_minor": 4
}
