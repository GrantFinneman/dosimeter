{
 "cells": [
  {
   "cell_type": "code",
   "execution_count": 8,
   "id": "ddb1c082-7bc3-4f01-8160-4f0526ea661c",
   "metadata": {},
   "outputs": [],
   "source": [
    "import matplotlib.pyplot as plt\n",
    "from mpl_toolkits.mplot3d import Axes3D\n",
    "from matplotlib import cm\n",
    "from matplotlib.colors import Normalize\n",
    "import numpy as np, os, pandas as pd\n",
    "from glob import glob\n",
    "import os\n",
    "import scipy\n",
    "import numpy as np\n",
    "import plotly.graph_objects as go"
   ]
  },
  {
   "cell_type": "code",
   "execution_count": 10,
   "id": "2c5cb1bd-08cc-4026-aea5-a72280625358",
   "metadata": {},
   "outputs": [],
   "source": [
    "plt.style.use('plotting_style_sheet.txt')"
   ]
  },
  {
   "cell_type": "code",
   "execution_count": null,
   "id": "3ad441ad-6dd6-43a8-8529-01c344b9c836",
   "metadata": {},
   "outputs": [],
   "source": []
  },
  {
   "cell_type": "code",
   "execution_count": null,
   "id": "eabf17f9-5dad-4bef-a9fa-2c6b3033298c",
   "metadata": {},
   "outputs": [],
   "source": []
  }
 ],
 "metadata": {
  "kernelspec": {
   "display_name": "Python [conda env:.conda-dosimeter]",
   "language": "python",
   "name": "conda-env-.conda-dosimeter-py"
  },
  "language_info": {
   "codemirror_mode": {
    "name": "ipython",
    "version": 3
   },
   "file_extension": ".py",
   "mimetype": "text/x-python",
   "name": "python",
   "nbconvert_exporter": "python",
   "pygments_lexer": "ipython3",
   "version": "3.7.3"
  }
 },
 "nbformat": 4,
 "nbformat_minor": 5
}
