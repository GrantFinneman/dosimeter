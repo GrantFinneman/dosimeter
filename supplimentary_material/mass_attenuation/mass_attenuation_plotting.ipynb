{
 "cells": [
  {
   "cell_type": "code",
   "execution_count": 1,
   "id": "887d27c4-9f3d-4ace-874a-56c2276bb894",
   "metadata": {},
   "outputs": [],
   "source": [
    "import os\n",
    "import matplotlib.pyplot as plt\n",
    "from glob import glob\n",
    "import numpy as np\n",
    "import pandas as pd\n",
    "from scipy.optimize import curve_fit"
   ]
  },
  {
   "cell_type": "markdown",
   "id": "5bdc88cc-3177-4acb-8111-3ee47b50c43c",
   "metadata": {},
   "source": [
    "## Stylesheet for consistency"
   ]
  },
  {
   "cell_type": "code",
   "execution_count": 2,
   "id": "11dd3a9c-c1dc-41f1-af1c-7abdcb622b01",
   "metadata": {},
   "outputs": [],
   "source": [
    "plt.style.use('../../supplimentary_material/plotting_style_sheet.txt')"
   ]
  },
  {
   "cell_type": "markdown",
   "id": "60e28bc5-af79-449c-beb9-6b0ecf4ecfdf",
   "metadata": {},
   "source": [
    "## Generates lists of data files"
   ]
  },
  {
   "cell_type": "code",
   "execution_count": 3,
   "id": "872c9228-44e7-448d-a218-5d34f1a85feb",
   "metadata": {},
   "outputs": [],
   "source": [
    "scintx_mu = sorted(glob('Grant_Data_updated/scintX_MACs/*'))\n",
    "water_mu = sorted(glob('Grant_Data_updated/water_MACs/*'))"
   ]
  },
  {
   "cell_type": "code",
   "execution_count": 4,
   "id": "555ec1db-b769-47ad-ba9c-63f50a19f1b0",
   "metadata": {},
   "outputs": [],
   "source": [
    "Xenergies = list()\n",
    "Xattenuations = list()\n",
    "\n",
    "for file in scintx_mu:\n",
    "    _, energy = os.path.basename(file).rstrip('.txt').split('_')\n",
    "    Xenergies.append(float(energy))\n",
    "    μ = np.loadtxt(file)\n",
    "    Xattenuations.append(μ)\n",
    "    \n",
    "Wenergies = list()\n",
    "Wattenuations = list()\n",
    "\n",
    "for file in water_mu:\n",
    "    _, energy = os.path.basename(file).rstrip('.txt').split('_')\n",
    "    Wenergies.append(float(energy))\n",
    "    μ = np.loadtxt(file)\n",
    "    Wattenuations.append(μ)"
   ]
  },
  {
   "cell_type": "code",
   "execution_count": 5,
   "id": "86f8ecad-92e9-4537-8af3-868895d86aaa",
   "metadata": {},
   "outputs": [
    {
     "data": {
      "text/html": [
       "<div>\n",
       "<style scoped>\n",
       "    .dataframe tbody tr th:only-of-type {\n",
       "        vertical-align: middle;\n",
       "    }\n",
       "\n",
       "    .dataframe tbody tr th {\n",
       "        vertical-align: top;\n",
       "    }\n",
       "\n",
       "    .dataframe thead th {\n",
       "        text-align: right;\n",
       "    }\n",
       "</style>\n",
       "<table border=\"1\" class=\"dataframe\">\n",
       "  <thead>\n",
       "    <tr style=\"text-align: right;\">\n",
       "      <th></th>\n",
       "      <th>Energy</th>\n",
       "      <th>u/p</th>\n",
       "      <th>uen/p</th>\n",
       "    </tr>\n",
       "  </thead>\n",
       "  <tbody>\n",
       "    <tr>\n",
       "      <th>0</th>\n",
       "      <td>0.0010</td>\n",
       "      <td>4078.00</td>\n",
       "      <td>4065.00</td>\n",
       "    </tr>\n",
       "    <tr>\n",
       "      <th>1</th>\n",
       "      <td>0.0015</td>\n",
       "      <td>1376.00</td>\n",
       "      <td>1372.00</td>\n",
       "    </tr>\n",
       "    <tr>\n",
       "      <th>2</th>\n",
       "      <td>0.0020</td>\n",
       "      <td>617.30</td>\n",
       "      <td>615.20</td>\n",
       "    </tr>\n",
       "    <tr>\n",
       "      <th>3</th>\n",
       "      <td>0.0030</td>\n",
       "      <td>192.90</td>\n",
       "      <td>191.70</td>\n",
       "    </tr>\n",
       "    <tr>\n",
       "      <th>4</th>\n",
       "      <td>0.0040</td>\n",
       "      <td>82.78</td>\n",
       "      <td>81.91</td>\n",
       "    </tr>\n",
       "  </tbody>\n",
       "</table>\n",
       "</div>"
      ],
      "text/plain": [
       "   Energy      u/p    uen/p\n",
       "0  0.0010  4078.00  4065.00\n",
       "1  0.0015  1376.00  1372.00\n",
       "2  0.0020   617.30   615.20\n",
       "3  0.0030   192.90   191.70\n",
       "4  0.0040    82.78    81.91"
      ]
     },
     "execution_count": 5,
     "metadata": {},
     "output_type": "execute_result"
    }
   ],
   "source": [
    "df = pd.read_csv('Grant_Data_updated/nist_water_MACs/nist_water.txt', delim_whitespace=True)\n",
    "df.head()"
   ]
  },
  {
   "cell_type": "code",
   "execution_count": 39,
   "id": "07055231-a6ef-42a8-9e66-77a2796e1cf3",
   "metadata": {},
   "outputs": [
    {
     "data": {
      "image/png": "[encoded data removed]",
      "text/plain": [
       "<Figure size 432x288 with 1 Axes>"
      ]
     },
     "metadata": {},
     "output_type": "display_data"
    }
   ],
   "source": [
    "fig = plt.figure(facecolor='white')\n",
    "\n",
    "plt.loglog(Xenergies, Xattenuations, ls='solid', label='ScintX')\n",
    "plt.loglog(Wenergies, Wattenuations, ls='dashed', label='Water')\n",
    "#plt.loglog(df['Energy'], df['u/p'],\n",
    "#           #marker='o',\n",
    "#           mfc='black',\n",
    "#           linestyle='dotted',\n",
    "#           #ms=3.5,\n",
    "#           label='NIST Water')\n",
    "plt.plot()\n",
    "plt.legend()\n",
    "plt.ylabel(r'Mass Attenuation $\\frac{cm^2}{g}$')\n",
    "plt.xlabel('Energy (MeV)')\n",
    "#plt.title('Mass Attenuation values')\n",
    "plt.show()\n",
    "\n",
    "fig.savefig('../../figures/mass_attenuation/mass_attenuation.pdf')"
   ]
  },
  {
   "cell_type": "code",
   "execution_count": null,
   "id": "ee7cd021-fcff-446a-8141-e465e0e56a47",
   "metadata": {},
   "outputs": [],
   "source": []
  }
 ],
 "metadata": {
  "kernelspec": {
   "display_name": "Python [conda env:.conda-james]",
   "language": "python",
   "name": "conda-env-.conda-james-py"
  },
  "language_info": {
   "codemirror_mode": {
    "name": "ipython",
    "version": 3
   },
   "file_extension": ".py",
   "mimetype": "text/x-python",
   "name": "python",
   "nbconvert_exporter": "python",
   "pygments_lexer": "ipython3",
   "version": "3.7.3"
  }
 },
 "nbformat": 4,
 "nbformat_minor": 5
}
