{
 "cells": [
  {
   "cell_type": "code",
   "execution_count": 1,
   "id": "44434fd5-0e36-419a-9221-f8a9a9a9ddf9",
   "metadata": {},
   "outputs": [],
   "source": [
    "using Flux, Statistics\n",
    "using Flux: crossentropy, throttle, logitcrossentropy\n",
    "using Base.Iterators: repeated, partition, flatten\n",
    "using DelimitedFiles\n",
    "using LinearAlgebra\n",
    "using RDatasets\n",
    "using GLM\n",
    "using BSON: @save, @load\n",
    "using Random\n",
    "using Base.Threads "
   ]
  },
  {
   "cell_type": "code",
   "execution_count": 2,
   "id": "62fb337f-6d3b-49fa-8f0e-ced4aaffcccf",
   "metadata": {},
   "outputs": [
    {
     "data": {
      "text/plain": [
       "getEdepGateBarA0 (generic function with 1 method)"
      ]
     },
     "execution_count": 2,
     "metadata": {},
     "output_type": "execute_result"
    }
   ],
   "source": [
    "function getEdepGateBarA0(number, angle)\n",
    "    folder = \"/home/jupyter-nrmeskell/dosimeter/gate_data/bars/\"\n",
    "    angle = lpad(angle,3,\"0\")\n",
    "    fileName = filter(x->occursin(string(\"A\", angle), x), readdir(folder))[number]\n",
    "    filePath = string(folder, fileName)\n",
    "    return Int.(round.(reshape(readdlm(filePath)[4:67,2], (8,8))))\n",
    "end"
   ]
  },
  {
   "cell_type": "code",
   "execution_count": 3,
   "id": "9927597d-5e34-41fc-a699-7ea21b0d0556",
   "metadata": {
    "tags": []
   },
   "outputs": [],
   "source": [
    "#getEdepGateBarA0(99, 20)"
   ]
  },
  {
   "cell_type": "code",
   "execution_count": 4,
   "id": "b2158079-821e-4901-9256-9dd1faf71c20",
   "metadata": {},
   "outputs": [
    {
     "data": {
      "text/plain": [
       "getEdepGateBarA90 (generic function with 1 method)"
      ]
     },
     "execution_count": 4,
     "metadata": {},
     "output_type": "execute_result"
    }
   ],
   "source": [
    "function getEdepGateBarA90(number, angle)\n",
    "    folder = \"/home/jupyter-nrmeskell/dosimeter/gate_data/bars/\"\n",
    "    angle80 = lpad(angle+80, 3, \"0\")\n",
    "    angle100 = lpad(angle+100, 3, \"0\")\n",
    "    fileName80 = filter(x->occursin(string(\"A\", angle80), x), readdir(folder))[number]\n",
    "    fileName100 = filter(x->occursin(string(\"A\", angle100), x), readdir(folder))[number]\n",
    "    filePath80 = string(folder, fileName80)\n",
    "    filePath100 = string(folder, fileName100)\n",
    "    return Int.(round.(reshape(((readdlm(filePath80)[4:67,2].+readdlm(filePath100)[4:67,2])/2), (8,8))))\n",
    "end"
   ]
  },
  {
   "cell_type": "code",
   "execution_count": 5,
   "id": "190d51bc-4968-4834-be50-616c55bf0cc1",
   "metadata": {},
   "outputs": [],
   "source": [
    "#getEdepGateBarA90(4, 260)"
   ]
  },
  {
   "cell_type": "code",
   "execution_count": 6,
   "id": "c858808b-22dc-4e52-940c-9b63cc80d57d",
   "metadata": {},
   "outputs": [
    {
     "data": {
      "text/plain": [
       "getEdepGateGrid (generic function with 1 method)"
      ]
     },
     "execution_count": 6,
     "metadata": {},
     "output_type": "execute_result"
    }
   ],
   "source": [
    "function getEdepGateGrid(number, angle)\n",
    "    folder = \"/home/jupyter-nrmeskell/dosimeter/gate_data/cubes/\"\n",
    "    angle = lpad(angle, 3, \"0\")\n",
    "    fileName = filter(x->occursin(string(\"A\", angle), x), readdir(folder))[number]\n",
    "    filePath = string(folder, fileName)\n",
    "    return Int.(round.(readdlm(filePath)[4:515,2]))\n",
    "end"
   ]
  },
  {
   "cell_type": "code",
   "execution_count": 7,
   "id": "65d81944-c591-45e4-af95-0c95d2aaaa7d",
   "metadata": {},
   "outputs": [],
   "source": [
    "#getEdepGateGrid(1, 40)"
   ]
  },
  {
   "cell_type": "markdown",
   "id": "81db328b-92c4-4d10-b90f-b49036b5ff83",
   "metadata": {},
   "source": [
    "dosimeter/gate_data/bars/W05__H05__A000_bars_extracted.txt"
   ]
  },
  {
   "cell_type": "code",
   "execution_count": 8,
   "id": "97502259-4ef1-49ad-96df-ade611279d66",
   "metadata": {},
   "outputs": [
    {
     "data": {
      "text/plain": [
       "getEdepOhioBarA0 (generic function with 1 method)"
      ]
     },
     "execution_count": 8,
     "metadata": {},
     "output_type": "execute_result"
    }
   ],
   "source": [
    "function getEdepOhioBarA0(number)\n",
    "    folder = \"/home/jupyter-nrmeskell/dosimeter/ohio_data/extracted_data/\"\n",
    "    fileName = filter(x->occursin(r\"R...txt\", x), readdir(folder))[number]\n",
    "    filePath = string(folder,fileName)\n",
    "    return Int.(round.(reshape(readdlm(filePath)[4:67,2], (8,8))))\n",
    "end"
   ]
  },
  {
   "cell_type": "code",
   "execution_count": 9,
   "id": "99ee8695-e6d6-4b88-a77b-7da230fa143c",
   "metadata": {},
   "outputs": [],
   "source": [
    "#getEdepOhioBarA0(1)"
   ]
  },
  {
   "cell_type": "code",
   "execution_count": 10,
   "id": "2ad7b606-a301-4c00-bea1-3672c72b9508",
   "metadata": {},
   "outputs": [
    {
     "data": {
      "text/plain": [
       "getEdepOhioBarA90 (generic function with 1 method)"
      ]
     },
     "execution_count": 10,
     "metadata": {},
     "output_type": "execute_result"
    }
   ],
   "source": [
    "function getEdepOhioBarA90(number)\n",
    "    folder = \"/home/jupyter-nrmeskell/dosimeter/ohio_data/extracted_data/\"\n",
    "    fileName = filter(x->occursin(r\"R.._r.txt\", x), readdir(folder))[number]\n",
    "    filePath = string(folder,fileName)\n",
    "    return Int.(round.(reshape(readdlm(filePath)[4:67,2], (8,8))))\n",
    "end"
   ]
  },
  {
   "cell_type": "code",
   "execution_count": 11,
   "id": "c4a825ed-b6e8-4f37-841b-95b32415a4f8",
   "metadata": {},
   "outputs": [],
   "source": [
    "#getEdepOhioBarA90(1)"
   ]
  },
  {
   "cell_type": "code",
   "execution_count": 12,
   "id": "0f5dda1b-0510-484b-949a-07339c974c4c",
   "metadata": {},
   "outputs": [
    {
     "data": {
      "text/plain": [
       "normalize (generic function with 1 method)"
      ]
     },
     "execution_count": 12,
     "metadata": {},
     "output_type": "execute_result"
    }
   ],
   "source": [
    "function normalize(inputArray)\n",
    "    min = minimum(inputArray)\n",
    "    inputArray = inputArray.-min\n",
    "    max = maximum(inputArray)/2048\n",
    "    inputArray = inputArray./max\n",
    "    return Int.(round.(inputArray))\n",
    "end"
   ]
  },
  {
   "cell_type": "code",
   "execution_count": 13,
   "id": "b0ca254a-2570-4962-9a73-aa66d8becd17",
   "metadata": {},
   "outputs": [],
   "source": [
    "#normalize(getEdepOhioBarA90(1))"
   ]
  },
  {
   "cell_type": "code",
   "execution_count": 14,
   "id": "0116d8cb-ae7d-4f70-b895-2f393159f9d3",
   "metadata": {},
   "outputs": [],
   "source": [
    "#normalize(getEdepOhioBarA0(1))"
   ]
  },
  {
   "cell_type": "code",
   "execution_count": 15,
   "id": "852a2069-926c-46a8-be5b-057f8961961c",
   "metadata": {},
   "outputs": [
    {
     "data": {
      "text/plain": [
       "makeTrainingData (generic function with 1 method)"
      ]
     },
     "execution_count": 15,
     "metadata": {},
     "output_type": "execute_result"
    }
   ],
   "source": [
    "function makeTrainingData()\n",
    "    folder = \"/home/jupyter-nrmeskell/dosimeter/gate_data/bars/\"\n",
    "    trainingSize = size(filter(x->occursin(\"A000\", x), readdir(folder)))[1]\n",
    "    trainingArray = Array{Int64}(undef, 8, 8, 2, trainingSize*13)\n",
    "    for i = 1:trainingSize\n",
    "        for r = 1:13\n",
    "            trainingArray[:, :, 1, (i-1)*14 + r] = getEdepGateBarA0(i, (r-1)*20)\n",
    "            trainingArray[:, :, 2, (i-1)*14 + r] = getEdepGateBarA90(i, (r-1)*20)\n",
    "        end\n",
    "    end\n",
    "    return trainingArray\n",
    "end"
   ]
  },
  {
   "cell_type": "code",
   "execution_count": 16,
   "id": "462f4dec-4b0d-40ac-bb39-eb78e91ef596",
   "metadata": {},
   "outputs": [
    {
     "data": {
      "text/plain": [
       "makeValidationData (generic function with 1 method)"
      ]
     },
     "execution_count": 16,
     "metadata": {},
     "output_type": "execute_result"
    }
   ],
   "source": [
    "function makeValidationData()\n",
    "    folder = \"/home/jupyter-nrmeskell/dosimeter/gate_data/bars/\"\n",
    "    trainingSize = size(filter(x->occursin(\"A000\", x), readdir(folder)))[1]\n",
    "    trainingArray = Array{Int64}(undef, 8, 8, 2, trainingSize)\n",
    "    for i = 1:trainingSize\n",
    "        trainingArray[:, :, 1, i] = getEdepGateBarA0(i, (13)*20)\n",
    "        trainingArray[:, :, 2, i] = getEdepGateBarA90(i, (13)*20)\n",
    "    end\n",
    "    return trainingArray\n",
    "end"
   ]
  },
  {
   "cell_type": "code",
   "execution_count": 17,
   "id": "2ae5e983-db96-4e1c-99e6-08955435b2a9",
   "metadata": {},
   "outputs": [],
   "source": [
    "#makeTrainingData()"
   ]
  },
  {
   "cell_type": "code",
   "execution_count": 18,
   "id": "3de9e3db-d537-4609-bfb1-cf2a8e381b4b",
   "metadata": {},
   "outputs": [
    {
     "data": {
      "text/plain": [
       "makeTargetData (generic function with 1 method)"
      ]
     },
     "execution_count": 18,
     "metadata": {},
     "output_type": "execute_result"
    }
   ],
   "source": [
    "function makeTargetData()\n",
    "    folder = \"/home/jupyter-nrmeskell/dosimeter/gate_data/cubes/\"\n",
    "    trainingSize = size(filter(x->occursin(\"A000\", x), readdir(folder)))[1]\n",
    "    trainingArray = Array{Int64}(undef, 8*8*8, trainingSize*13)\n",
    "    for i = 1:trainingSize\n",
    "        for r = 1:13\n",
    "            trainingArray[:,(i-1)*14 + r] = getEdepGateGrid(i, (r-1)*20)\n",
    "        end\n",
    "    end\n",
    "    return trainingArray\n",
    "end"
   ]
  },
  {
   "cell_type": "code",
   "execution_count": 19,
   "id": "ae00eecb-545d-4151-b22e-c7e6f99c7926",
   "metadata": {},
   "outputs": [
    {
     "data": {
      "text/plain": [
       "makeValTargetData (generic function with 1 method)"
      ]
     },
     "execution_count": 19,
     "metadata": {},
     "output_type": "execute_result"
    }
   ],
   "source": [
    "function makeValTargetData()\n",
    "    folder = \"/home/jupyter-nrmeskell/dosimeter/gate_data/cubes/\"\n",
    "    trainingSize = size(filter(x->occursin(\"A000\", x), readdir(folder)))[1]\n",
    "    trainingArray = Array{Int64}(undef, 8*8*8, trainingSize)\n",
    "    for i = 1:trainingSize\n",
    "        trainingArray[:,i] = getEdepGateGrid(i, (14-1)*20)\n",
    "    end\n",
    "    return trainingArray\n",
    "end"
   ]
  },
  {
   "cell_type": "code",
   "execution_count": 20,
   "id": "58088622-63be-4eec-8586-5c1c68b0888c",
   "metadata": {},
   "outputs": [],
   "source": [
    "#makeTargetData()"
   ]
  },
  {
   "cell_type": "code",
   "execution_count": 21,
   "id": "3a7f3610-c50d-45e9-90cd-0c28704b869f",
   "metadata": {},
   "outputs": [
    {
     "data": {
      "text/plain": [
       "makeInputData (generic function with 1 method)"
      ]
     },
     "execution_count": 21,
     "metadata": {},
     "output_type": "execute_result"
    }
   ],
   "source": [
    "function makeInputData()\n",
    "    folder = \"/home/jupyter-nrmeskell/dosimeter/ohio_data/extracted_data/\"\n",
    "    trainingSize = size(filter(x->occursin(\"_r.txt\", x), readdir(folder)))[1]\n",
    "    trainingArray = Array{Int64}(undef, 8, 8, 2, trainingSize)\n",
    "    for i = 1:trainingSize\n",
    "        trainingArray[:,:,1,i] = getEdepOhioBarA0(i)\n",
    "        trainingArray[:,:,2,i] = getEdepOhioBarA90(i)\n",
    "    end\n",
    "    return trainingArray\n",
    "end"
   ]
  },
  {
   "cell_type": "code",
   "execution_count": 22,
   "id": "fecbd79c-6be6-4eab-ac7d-20efefa331a8",
   "metadata": {},
   "outputs": [],
   "source": [
    "#makeInputData()"
   ]
  },
  {
   "cell_type": "code",
   "execution_count": 23,
   "id": "fb62be87-7544-4838-ba71-ab8853ddd038",
   "metadata": {},
   "outputs": [
    {
     "ename": "LoadError",
     "evalue": "BoundsError: attempt to access 8×8×2×1300 Array{Int64, 4} at index [1:8, 1:8, 1, 1301]",
     "output_type": "error",
     "traceback": [
      "BoundsError: attempt to access 8×8×2×1300 Array{Int64, 4} at index [1:8, 1:8, 1, 1301]",
      "",
      "Stacktrace:",
      " [1] throw_boundserror(A::Array{Int64, 4}, I::Tuple{Base.Slice{Base.OneTo{Int64}}, Base.Slice{Base.OneTo{Int64}}, Int64, Int64})",
      "   @ Base ./abstractarray.jl:651",
      " [2] checkbounds",
      "   @ ./abstractarray.jl:616 [inlined]",
      " [3] _setindex!",
      "   @ ./multidimensional.jl:886 [inlined]",
      " [4] setindex!",
      "   @ ./abstractarray.jl:1267 [inlined]",
      " [5] makeTrainingData()",
      "   @ Main ./In[15]:7",
      " [6] top-level scope",
      "   @ In[23]:1",
      " [7] eval",
      "   @ ./boot.jl:360 [inlined]",
      " [8] include_string(mapexpr::typeof(REPL.softscope), mod::Module, code::String, filename::String)",
      "   @ Base ./loading.jl:1094"
     ]
    }
   ],
   "source": [
    "trainingArray = makeTrainingData()"
   ]
  },
  {
   "cell_type": "code",
   "execution_count": 24,
   "id": "d31ee72b-5d1e-4ffe-acf4-2bfc8e34bb50",
   "metadata": {},
   "outputs": [
    {
     "ename": "LoadError",
     "evalue": "BoundsError: attempt to access 512×1300 Matrix{Int64} at index [1:512, 1301]",
     "output_type": "error",
     "traceback": [
      "BoundsError: attempt to access 512×1300 Matrix{Int64} at index [1:512, 1301]",
      "",
      "Stacktrace:",
      " [1] throw_boundserror(A::Matrix{Int64}, I::Tuple{Base.Slice{Base.OneTo{Int64}}, Int64})",
      "   @ Base ./abstractarray.jl:651",
      " [2] checkbounds",
      "   @ ./abstractarray.jl:616 [inlined]",
      " [3] _setindex!",
      "   @ ./multidimensional.jl:886 [inlined]",
      " [4] setindex!",
      "   @ ./abstractarray.jl:1267 [inlined]",
      " [5] makeTargetData()",
      "   @ Main ./In[18]:7",
      " [6] top-level scope",
      "   @ In[24]:1",
      " [7] eval",
      "   @ ./boot.jl:360 [inlined]",
      " [8] include_string(mapexpr::typeof(REPL.softscope), mod::Module, code::String, filename::String)",
      "   @ Base ./loading.jl:1094"
     ]
    }
   ],
   "source": [
    "targetArray = makeTargetData()"
   ]
  },
  {
   "cell_type": "code",
   "execution_count": 25,
   "id": "3bad0964-a5e4-48b1-8ce2-0d1c923c0e13",
   "metadata": {},
   "outputs": [
    {
     "data": {
      "text/plain": [
       "8×8×2×100 Array{Int64, 4}:\n",
       "[:, :, 1, 1] =\n",
       "   403   1388   2124   2507   2734   2315   2048   1709\n",
       "  1615   5549   7391   7764   6950   5730   4258   3143\n",
       " 22602  45117  39016  28061  20732  13695   9221   5912\n",
       " 13789  56701  94384  89460  63780  37756  22713  13545\n",
       "  1390   9327  36010  68049  81088  73066  51832  30405\n",
       "   658   2220   8701  19231  31318  41140  46671  42233\n",
       "   322    981   2542   5890  10700  15613  20328  21931\n",
       "   247    396   1005   2208   4152   6095   8184   9379\n",
       "\n",
       "[:, :, 2, 1] =\n",
       " 117  331  1889  28757  59796  9857  1188  332\n",
       " 129  331  1985  33970  65509  7660   979  298\n",
       " 164  280  1640  36004  61134  4896   708  192\n",
       " 121  272  1623  40392  50008  2674   474  145\n",
       "  89  186  1062  40141  34581  1508   364  151\n",
       "  67  167   858  34295  19211   706   265   86\n",
       "  52  156   569  21549   8839   491   145   77\n",
       "  54  100   298   8341   2973   265   118   46\n",
       "\n",
       "[:, :, 1, 2] =\n",
       "   595   1610   2600   3037   3179   2523   2000   1767\n",
       "  5440   9810  11295   9432   8353   6687   4794   3067\n",
       " 17709  42536  47559  36004  22770  15414  11376   6638\n",
       " 14716  48956  71989  73480  60228  42713  27022  14684\n",
       "  2438  17712  43271  63613  66438  58990  47748  31599\n",
       "   704   3043  10772  22942  36223  42525  43589  35807\n",
       "   372    930   3367   7623  12912  16628  21188  22516\n",
       "   249    441   1079   2551   4554   6721   8161   9285\n",
       "\n",
       "[:, :, 2, 2] =\n",
       " 161  369  2832  29776  56081  13588  1395  327\n",
       " 156  285  2729  36140  62580  10152  1196  255\n",
       " 111  302  2510  39415  57192   5729   862  265\n",
       " 103  327  2014  39908  46315   3502   548  210\n",
       "  97  218  1594  36629  33456   2032   354  201\n",
       "  88  191  1302  30441  20313   1004   290  144\n",
       "  73  151  1224  20679  10418    541   233   93\n",
       "  37  123   957   8075   2950    246   137   72\n",
       "\n",
       "[:, :, 1, 3] =\n",
       "   853   2587   3751   4027   3603   2751   2389   1766\n",
       "  8674  17537  18158  13408  10300   8006   5326   4342\n",
       " 11650  33331  46823  40533  30208  19247  13216   8269\n",
       " 12230  35503  53267  58178  52212  39930  29080  17146\n",
       "  5634  24209  47044  57748  54601  48463  38952  28775\n",
       "   780   4559  18024  32714  39793  41242  37380  29764\n",
       "   320   1149   4499   9700  15671  20368  25445  23928\n",
       "   246    598   1496   3273   5435   8441  10187  10517\n",
       "\n",
       "[:, :, 2, 3] =\n",
       "  88  488  3233  31043  48267  16277  1794  355\n",
       " 143  455  3583  37124  52565  13884  1593  342\n",
       " 133  416  3019  39316  50684   9084   921  293\n",
       " 107  378  3086  39126  43569   4852   585  192\n",
       "  74  313  2879  35136  33160   2587   352  158\n",
       "  74  193  2675  27336  21342   1180   266  101\n",
       "  50  125  2849  16336  11103    655   171  107\n",
       "  43   99  1607   6149   3800    235   101   64\n",
       "\n",
       "...\n",
       "\n",
       "[:, :, 1, 98] =\n",
       " 4013   9571  12680  14194  14852  13608  10218   7222\n",
       " 4675  14126  19912  21609  22220  20971  19381  16410\n",
       " 4537  13706  21218  24154  22247  21081  18696  16890\n",
       " 4867  13842  21430  24958  24653  21893  19131  15641\n",
       " 4493  13996  22420  26801  25571  22776  19854  16406\n",
       " 4738  13216  21438  25562  25868  23425  19127  15939\n",
       " 4094  13241  20109  24416  23429  22885  18349  14514\n",
       "  883   6414  13611  18466  18768  17687  15133  11608\n",
       "\n",
       "[:, :, 2, 98] =\n",
       " 248  2570  16700  23407  24168  23186  10479  1371\n",
       " 231  2668  20051  25020  26492  25323   9809  1099\n",
       " 277  2810  20613  23592  24894  23504   6911   668\n",
       " 225  3181  18917  21732  21966  20185   4721   439\n",
       " 175  3241  16322  17628  18033  16260   2667   219\n",
       " 136  3019  11609  12911  13102  11323   1194   145\n",
       " 105  2174   7162   7731   7558   6037    513   145\n",
       "  72   989   2759   2717   2936   2198    224    69\n",
       "\n",
       "[:, :, 1, 99] =\n",
       " 3200   7893  10761  11460  12393  12909  12868  10896\n",
       " 4340  12081  17775  18975  18693  19171  17508  16473\n",
       " 3914  12478  19125  21421  21064  19789  16714  14914\n",
       " 4669  13000  19611  22044  22002  19888  16464  14940\n",
       " 4536  13353  21670  24030  22200  19851  17091  14043\n",
       " 3845  12206  19258  22924  22692  21312  18711  14813\n",
       " 3879  12421  18819  21205  21545  20299  17690  13818\n",
       " 2403   8865  15041  17631  17674  16126  13922  11172\n",
       "\n",
       "[:, :, 2, 99] =\n",
       " 482  4422  18290  22005  21618  20661  12315  2449\n",
       " 371  5241  20895  23808  23500  22504  12406  1799\n",
       " 323  5603  21005  22597  21759  21194  10630  1176\n",
       " 316  6251  19205  20104  19622  18574   7969   583\n",
       " 294  6720  16259  16086  15645  15282   5296   354\n",
       " 237  5549  11496  11758  11424  10817   2744   164\n",
       " 183  3682   6841   6648   6853   6265   1127   139\n",
       " 115  1617   2594   2652   2716   2184    392    76\n",
       "\n",
       "[:, :, 1, 100] =\n",
       " 2844   6754   9622  11068  11360  11117  11804  11239\n",
       " 3742   9677  15402  16632  17046  15735  15421  15157\n",
       " 3687  10821  16968  19884  18990  16303  15340  13124\n",
       " 3942  11170  17745  21345  20622  18530  16099  13189\n",
       " 3955  12000  17322  20039  20280  18857  16359  13194\n",
       " 3647  11419  17883  21300  20401  17823  16217  11817\n",
       " 3713  11367  17613  20249  19944  17214  16060  11220\n",
       " 2970   8732  14303  16372  15812  15162  13158  10128\n",
       "\n",
       "[:, :, 2, 100] =\n",
       " 563  6609  18321  19850  19089  19303  14430  3662\n",
       " 691  8093  20253  21378  20986  20813  15517  3098\n",
       " 588  9123  19515  20777  20851  19644  13995  1888\n",
       " 516  9443  17367  18105  17701  17874  10717   975\n",
       " 515  9171  14458  14195  14058  14708   7850   425\n",
       " 393  6913  10531  10341  10181  10869   5317   243\n",
       " 520  4524   6051   6122   6106   6282   2497   157\n",
       " 339  1669   2222   2160   2297   2461    877   100"
      ]
     },
     "execution_count": 25,
     "metadata": {},
     "output_type": "execute_result"
    }
   ],
   "source": [
    "validationArray = makeValidationData()"
   ]
  },
  {
   "cell_type": "code",
   "execution_count": 26,
   "id": "3abbaca2-1ed7-4bcb-a9df-dd65eea7dec7",
   "metadata": {},
   "outputs": [
    {
     "data": {
      "text/plain": [
       "512×100 Matrix{Int64}:\n",
       "   6    8   13    6    7    7    6  …    16    17    13    10    16     9\n",
       "  13    9   15   10   12   14    8       30    14    15    41    19    11\n",
       "  22    8   14    7    6    8    7       39    12    15    54    20    35\n",
       "  36   12   15    7    9   14    9       54    20    28    16     8    31\n",
       "   9   13   10   14   15    8    7       23    38    18    12    21    30\n",
       "   9   16   41    6   12   11   12  …    15     7    19    38    21    19\n",
       "  17    9    4    6   13   10    4        8    11     9    15    18    13\n",
       "  13    5    5    3    6    8    5       12    26    16    28    37    11\n",
       "  20   27   16   12   18   21   13      553   635   553   416   312   350\n",
       "  27   41   49   18   17   15   25      729   644   502   856   526   263\n",
       "  27   28   27   35   23   24   34  …  1044   690   736   659   640   340\n",
       "  23   20   27   39   27   22   37      828   474   746   592   387   331\n",
       "  26   21   57   46   33   46   41      739   695   628   703   479   331\n",
       "   ⋮                        ⋮       ⋱           ⋮                    \n",
       " 450  363  440  306  370  303  301  …  2414  2463  1861  1582  1158  1327\n",
       " 357  354  405  316  370  269  234     2302  2303  1622  1971  1690  1535\n",
       " 332  341  410  488  228  277  217     1967  2580  1802  1509  1469  1288\n",
       " 154  213  337  226  223  177  210     1589  1828  1418  1369  1263   986\n",
       "  22   50   79   38   44   46   94      178    72    69   197   219    76\n",
       "  35   35   70   62  110   99   54  …   193   296   184   219   208   184\n",
       "  97  163   72   70  107   88  129      383   274   347   334   302   184\n",
       " 159  157  103   95  102   81  105      368   336   421   472   268   221\n",
       " 111  119  138  119  106   95   91      388   377   465   328   366   235\n",
       "  95  102   58  169   81  107   50      435   566   463   347   256   333\n",
       "  79  218   84   80  112   89   55  …   376   564   391   347   209   283\n",
       " 101  124   65   45   69   76  112      361   310   268   317   221   149"
      ]
     },
     "execution_count": 26,
     "metadata": {},
     "output_type": "execute_result"
    }
   ],
   "source": [
    "validationTargetArray = makeValTargetData()"
   ]
  },
  {
   "cell_type": "code",
   "execution_count": 27,
   "id": "cd7e2adf-12a3-4f45-90d6-767f891294eb",
   "metadata": {},
   "outputs": [
    {
     "data": {
      "text/plain": [
       "8×8×2×21 Array{Int64, 4}:\n",
       "[:, :, 1, 1] =\n",
       " 38484  42128  52850  126117  208366  54216  42413  38391\n",
       " 39382  44555  47446  118228  285328  61556  41870  39128\n",
       " 36595  39956  55851  189571  294911  57231  42411  38908\n",
       " 38021  43502  45917  122588  483994  71271  40778  39157\n",
       " 40115  46611  55757  176140  345909  74524  42913  39929\n",
       " 39228  38664  58439  162217  244550  68536  43572  39139\n",
       " 37466  37933  56898  131986  361086  60613  48624  37953\n",
       " 35604  38155  43116   84692  184161  70698  43053  37902\n",
       "\n",
       "[:, :, 2, 1] =\n",
       " 19404  22059  44432  101296   77978  36257  21430  19332\n",
       " 20006  24228  42568   87020  105097  53825  21343  20054\n",
       " 17905  20826  56275  160868  105372  47073  21694  19664\n",
       " 19379  23974  36643   91733  144345  65212  20635  20134\n",
       " 20977  26756  56546  140444  126791  68834  22822  20629\n",
       " 20002  20012  61299  128934   87739  61529  22612  20076\n",
       " 18627  19083  62967   99105  119800  47310  25929  19225\n",
       " 17006  19348  31036   58054   65617  59364  22150  18946\n",
       "\n",
       "[:, :, 1, 2] =\n",
       " 20170  22016  27397  145015   84354  24326  21275  19947\n",
       " 20418  22876  23567  124434  102766  24067  20868  20396\n",
       " 18814  20545  28059  223836  116418  22944  20977  19851\n",
       " 19963  22373  23087  127298  160130  25990  20172  20059\n",
       " 20825  24089  27396  197206  131033  27327  21124  20610\n",
       " 20382  20094  28915  177714   98734  25884  21501  20110\n",
       " 19405  19439  27932  134552  163677  24780  23506  19687\n",
       " 18173  19743  21758   76043   89630  27569  21282  19399\n",
       "\n",
       "[:, :, 2, 2] =\n",
       " 14770  16823  36673   88144   67192  29721  16346  14808\n",
       " 15141  18188  35091   74713   90893  44950  16161  15251\n",
       " 13599  15690  46586  133130   91199  39076  16320  14868\n",
       " 14727  18036  29908   79138  123101  54641  15627  15124\n",
       " 15789  20180  46907  121217  110613  57630  17500  15618\n",
       " 15236  15322  51055  111741   75262  51595  17268  15297\n",
       " 14253  14606  52758   85473  103061  39057  19664  14759\n",
       " 13004  14879  25089   48598   55307  49445  16927  14566\n",
       "\n",
       "[:, :, 1, 3] =\n",
       " 5308  6638  10652  58698  33221   8313  6159  5102\n",
       " 5772  7726   8745  49100  41745   9674  6081  5468\n",
       " 4524  5859  12085  90879  47723   8546  6234  5318\n",
       " 5174  7300   8010  51643  66052  11471  5553  5394\n",
       " 5989  8591  11672  79491  55124  12228  6150  5689\n",
       " 5587  5283  12717  71294  39309  10835  6426  5359\n",
       " 4874  4929  12198  53732  64726   9316  7818  4905\n",
       " 3977  4985   6709  27804  33488  11606  6084  4798\n",
       "\n",
       "[:, :, 2, 3] =\n",
       " 3752  5059  7384  50676  43482  6142  4715  3764\n",
       " 4282  6264  5478  44835  58851  6873  4678  4232\n",
       " 2968  4314  8005  86046  63619  5857  4811  4122\n",
       " 3737  5855  4871  48368  88543  8277  4140  4272\n",
       " 4749  7131  7787  77461  77052  9111  4849  4552\n",
       " 4205  3748  8486  70305  50668  7871  5084  4296\n",
       " 3354  3264  8023  51982  78542  6615  6769  3695\n",
       " 2387  3387  4035  25389  38470  8587  4753  3600\n",
       "\n",
       "...\n",
       "\n",
       "[:, :, 1, 19] =\n",
       " 27437  29624  35409   81359  140282  36245  29537  27309\n",
       " 27895  31287  32444   83280  205965  40121  29461  28050\n",
       " 26033  28361  37796  158467  218565  39073  29675  27338\n",
       " 27267  30164  31862   95349  275798  49166  28550  27404\n",
       " 27909  31834  38068  155184  256969  51684  29908  27919\n",
       " 27420  27482  40163  146140  188797  48006  30207  27418\n",
       " 26393  26727  38817  109399  271230  43425  32862  26979\n",
       " 25272  27115  30423   69479  155657  50431  29958  26706\n",
       "\n",
       "[:, :, 2, 19] =\n",
       " 24149  28488   62378   92846   73134   48413  28043  24073\n",
       " 25157  34231   64979   88476  107040   85321  29773  25086\n",
       " 22520  29500   94107  175690  114090   77919  32496  24624\n",
       " 24398  36512   59260  102938  169972  111987  30583  24957\n",
       " 26181  42222   98058  170180  143992  119353  35027  25386\n",
       " 25056  28720  105487  147874  100708  107353  33952  24839\n",
       " 23182  26582  110512  114276  137083   75483  41493  23836\n",
       " 21136  27239   49263   67866   76135   92764  33279  23347\n",
       "\n",
       "[:, :, 1, 20] =\n",
       " 11531  14036  21299   52732   87227  20211  14281  11399\n",
       " 12194  16430  19304   53926  132099  27642  14836  12387\n",
       " 10269  13151  26478  106749  153286  25876  15743  11922\n",
       " 11478  15729  18252   65419  215794  36917  14271  12111\n",
       " 12435  18031  27024  104177  190617  39834  16035  12538\n",
       " 12000  12124  29123   96579  125014  35314  16206  11959\n",
       " 10724  11311  28367   74833  194924  28053  19962  11228\n",
       "  9403  11493  15820   41478   97439  34882  15626  11006\n",
       "\n",
       "[:, :, 2, 20] =\n",
       " 15158  17167  22352   81630   66067  20357  16597  15063\n",
       " 15913  19366  21592   80297  101185  25586  16804  15857\n",
       " 14087  16532  28334  160158  109692  24698  17268  15549\n",
       " 15318  18989  20986   93182  160670  34128  16141  15765\n",
       " 16488  20984  28986  153288  137287  35819  17422  16085\n",
       " 15703  15513  31214  135709   94582  32956  17415  15651\n",
       " 14473  14655  31227  103823  134605  27488  19858  14846\n",
       " 13076  14887  18639   58633   71364  33664  16941  14509\n",
       "\n",
       "[:, :, 1, 21] =\n",
       " 56775  63611  80116  142142  212682   76311  65450  56772\n",
       " 58592  71000  75746  142842  317045   91682  68430  58759\n",
       " 54560  63226  94170  258610  342937   88368  71991  58461\n",
       " 56731  70941  74902  159636  522387  113382  68011  58625\n",
       " 59414  77316  95784  253047  410852  117302  72633  59700\n",
       " 58419  60621  99874  240118  281999  108567  72923  58611\n",
       " 55532  58986  97712  195505  526105   95129  84015  56734\n",
       " 52867  59244  68944  123569  248054  110553  71346  56661\n",
       "\n",
       "[:, :, 2, 21] =\n",
       " 33702  47941   83374  112707   88915   63753  48262  33428\n",
       " 36071  68338   85473  106718  128086  110284  56606  35725\n",
       " 31601  56691  125040  199409  135043  101675  67218  35706\n",
       " 34707  76846   79929  120535  190667  145973  60105  36540\n",
       " 38742  93081  129846  190392  165899  154621  69456  37197\n",
       " 36937  53480  138185  181221  118901  138514  66898  36584\n",
       " 33048  47816  142272  135445  164920   98643  88337  34126\n",
       " 29318  48386   66166   84451   93511  120582  63838  33482"
      ]
     },
     "execution_count": 27,
     "metadata": {},
     "output_type": "execute_result"
    }
   ],
   "source": [
    "inputArray = makeInputData()"
   ]
  },
  {
   "cell_type": "code",
   "execution_count": 28,
   "id": "af3c23a2-4c06-4683-9f2c-4ebd27820862",
   "metadata": {},
   "outputs": [
    {
     "data": {
      "text/plain": [
       "Chain(Conv((2, 2), 2=>16, relu), #23, Conv((2, 2), 16=>32, relu), #24, #25, Dense(800, 256), Dense(256, 512))"
      ]
     },
     "execution_count": 28,
     "metadata": {},
     "output_type": "execute_result"
    }
   ],
   "source": [
    "m = Chain(Conv((2,2), 2=>16, pad=(1,1), relu),\n",
    "        x -> maxpool(x, (2,2)),\n",
    "\n",
    "        Conv((2,2), 16=>32, pad=(1,1), relu),\n",
    "        x -> maxpool(x, (1,1)),\n",
    "        \n",
    "        x -> reshape(x, :, size(x,4)), \n",
    "        Dense(800, 8*8*4),\n",
    "        Dense(8*8*4, 8*8*8))"
   ]
  },
  {
   "cell_type": "code",
   "execution_count": 29,
   "id": "b91971e2-2cbe-428e-b0ba-c4423db5b2d2",
   "metadata": {},
   "outputs": [
    {
     "ename": "LoadError",
     "evalue": "UndefVarError: trainingArray not defined",
     "output_type": "error",
     "traceback": [
      "UndefVarError: trainingArray not defined",
      "",
      "Stacktrace:",
      " [1] top-level scope",
      "   @ In[29]:3",
      " [2] eval",
      "   @ ./boot.jl:360 [inlined]",
      " [3] include_string(mapexpr::typeof(REPL.softscope), mod::Module, code::String, filename::String)",
      "   @ Base ./loading.jl:1094"
     ]
    }
   ],
   "source": [
    "loss(x, y) = mean((m(x)-y).^2)\n",
    "opt = ADAM()\n",
    "dataset = (repeated((trainingArray, targetArray), 100))\n",
    "evalcb = () -> @show (loss(trainingArray, targetArray)) \n",
    "CurrentR2 = r2(lm(@formula(A  ~ B), DataFrame(A=Float64.(m(trainingArray)[:,1]), B=targetArray[:,1])))\n",
    "print(\"Training R2: \", CurrentR2, '\\n')\n",
    "CurrentVR2 = r2(lm(@formula(A  ~ B), DataFrame(A=Float64.(m(validationArray)[:,1]), B=validationTargetArray[:,1])))\n",
    "print(\"Validation R2: \", CurrentR2, '\\n')"
   ]
  },
  {
   "cell_type": "code",
   "execution_count": 30,
   "id": "406331ec-243f-45fe-a417-98556c85778c",
   "metadata": {
    "tags": []
   },
   "outputs": [
    {
     "ename": "LoadError",
     "evalue": "UndefVarError: evalcb not defined",
     "output_type": "error",
     "traceback": [
      "UndefVarError: evalcb not defined",
      "",
      "Stacktrace:",
      " [1] top-level scope",
      "   @ ./In[30]:2",
      " [2] eval",
      "   @ ./boot.jl:360 [inlined]",
      " [3] include_string(mapexpr::typeof(REPL.softscope), mod::Module, code::String, filename::String)",
      "   @ Base ./loading.jl:1094"
     ]
    }
   ],
   "source": [
    "for i = 1:10\n",
    "    Flux.train!(loss, params(m), dataset, opt, cb = throttle(evalcb, 2))\n",
    "    CurrentR2 = r2(lm(@formula(A  ~ B), DataFrame(A=Float64.(m(trainingArray)[:,1]), B=targetArray[:,1])))\n",
    "    print(\"Training R2: \", CurrentR2, '\\n')\n",
    "    CurrentVR2 = r2(lm(@formula(A  ~ B), DataFrame(A=Float64.(m(validationArray)[:,1]), B=validationTargetArray[:,1])))\n",
    "    print(\"Validation R2: \", CurrentR2, '\\n')\n",
    "end"
   ]
  },
  {
   "cell_type": "raw",
   "id": "d029a01d-2f4d-4169-8fc8-fbc21efc386c",
   "metadata": {},
   "source": []
  }
 ],
 "metadata": {
  "kernelspec": {
   "display_name": "Julia 1.6.1",
   "language": "julia",
   "name": "julia-1.6"
  },
  "language_info": {
   "file_extension": ".jl",
   "mimetype": "application/julia",
   "name": "julia",
   "version": "1.6.1"
  }
 },
 "nbformat": 4,
 "nbformat_minor": 5
}
