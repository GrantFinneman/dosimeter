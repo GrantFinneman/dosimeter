{
 "cells": [
  {
   "cell_type": "markdown",
   "id": "dfa791cf-a784-4f66-a698-d7eb75216870",
   "metadata": {},
   "source": [
    "# Calculating Electron Density of ScintX"
   ]
  },
  {
   "cell_type": "code",
   "execution_count": 34,
   "id": "65295a46-036a-4f88-9690-08771dd6c467",
   "metadata": {},
   "outputs": [],
   "source": [
    "xDense = .96\n",
    "perPTP = .009814\n",
    "perBisMSB = .0009814\n",
    "perPeroxide = .007851\n",
    "perHardsil = .9814\n",
    "massCarbon = 12.0107\n",
    "massHydrogen = 1.00784\n",
    "massOxygen = 15.999\n",
    "massSilicon = 28.0855\n",
    "electronCarbon = 6\n",
    "electronHydrogen = 1\n",
    "electronOxygen = 8\n",
    "electronSilicon = 14\n",
    "avogadro = 6.02214*(10**23)"
   ]
  },
  {
   "cell_type": "markdown",
   "id": "62b9c035-e1b4-4c3f-91cd-800ce62b8c44",
   "metadata": {},
   "source": [
    "### Calculating moles of each molecule in ScintX per cubic centimeter"
   ]
  },
  {
   "cell_type": "code",
   "execution_count": 35,
   "id": "859e5ee8-953b-424b-b598-92fba4ec0806",
   "metadata": {},
   "outputs": [],
   "source": [
    "massPTP = xDense*perPTP\n",
    "massBisMSB = xDense*perBisMSB\n",
    "massPeroxide = xDense*perPeroxide\n",
    "massHardsil = xDense*perHardsil\n",
    "\n",
    "molPTP = massPTP/(18*massCarbon+14*massHydrogen)\n",
    "molBisMSB = massBisMSB/(24*massCarbon+22*massHydrogen)\n",
    "molPeroxide = massPeroxide/(18*massCarbon+22*massHydrogen+2*massOxygen)\n",
    "molHardsil = massHardsil/(12*massCarbon+10*massHydrogen+3*massOxygen+2*massSilicon)"
   ]
  },
  {
   "cell_type": "markdown",
   "id": "d1f45864-680f-4fe9-81b6-43a418f8be79",
   "metadata": {},
   "source": [
    "### Calculating electrons in ScintX per cubic centimeterCalculating"
   ]
  },
  {
   "cell_type": "code",
   "execution_count": 38,
   "id": "b5e96263-6052-4944-bfc0-a388405bcc68",
   "metadata": {},
   "outputs": [
    {
     "name": "stdout",
     "output_type": "stream",
     "text": [
      "The electron density of ScintX is: 3.0001431317680468e+23\n"
     ]
    }
   ],
   "source": [
    "moleculesPTP = molPTP*avogadro\n",
    "moleculesBisMSB = molBisMSB*avogadro\n",
    "moleculesPeroxide = molPeroxide*avogadro\n",
    "moleculesHardsil = molHardsil*avogadro\n",
    "\n",
    "electronPTP = moleculesPTP*(18*electronCarbon+14*electronHydrogen)\n",
    "electronBisMSB = moleculesBisMSB*(24*electronCarbon+22*electronHydrogen)\n",
    "electronPeroxide = moleculesPeroxide*(18*electronCarbon+22*electronHydrogen+2*electronOxygen)\n",
    "electronHardsil = moleculesHardsil*(12*electronCarbon+10*electronHydrogen+3*electronOxygen+2*electronSilicon)\n",
    "\n",
    "electronsTotal = electronPTP+electronBisMSB+electronPeroxide+electronHardsil\n",
    "print(\"The electron density of ScintX is:\",electronsTotal)"
   ]
  },
  {
   "cell_type": "markdown",
   "id": "fed26548-6c4d-4ae6-bef7-35902d1259cd",
   "metadata": {},
   "source": [
    "### Calculating Z/A or electrons/molWeight"
   ]
  },
  {
   "cell_type": "code",
   "execution_count": 39,
   "id": "22269a6e-b0e7-4bdc-bc30-338df33fa01a",
   "metadata": {},
   "outputs": [
    {
     "name": "stdout",
     "output_type": "stream",
     "text": [
      "The Z/A ratio of ScintX is: 0.5189192040373836\n"
     ]
    }
   ],
   "source": [
    "ztoa = electronsTotal/((massPTP+massBisMSB+massPeroxide+massHardsil)*avogadro)\n",
    "print(\"The Z/A ratio of ScintX is:\", ztoa)"
   ]
  },
  {
   "cell_type": "code",
   "execution_count": null,
   "id": "45863115-2024-4336-8f1e-8517e29baf44",
   "metadata": {},
   "outputs": [],
   "source": []
  }
 ],
 "metadata": {
  "kernelspec": {
   "display_name": "Python 3",
   "language": "python",
   "name": "python3"
  },
  "language_info": {
   "codemirror_mode": {
    "name": "ipython",
    "version": 3
   },
   "file_extension": ".py",
   "mimetype": "text/x-python",
   "name": "python",
   "nbconvert_exporter": "python",
   "pygments_lexer": "ipython3",
   "version": "3.7.3"
  }
 },
 "nbformat": 4,
 "nbformat_minor": 5
}
